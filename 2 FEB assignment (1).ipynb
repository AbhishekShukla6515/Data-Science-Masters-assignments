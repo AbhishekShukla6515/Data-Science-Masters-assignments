{
 "cells": [
  {
   "cell_type": "markdown",
   "id": "425d239d-8015-429c-a1bc-3478c99f54e4",
   "metadata": {},
   "source": [
    "# 2 FEB ASSIGNMENT"
   ]
  },
  {
   "cell_type": "markdown",
   "id": "422bfec7-de06-4bf1-8e81-fbbbee9c0e36",
   "metadata": {},
   "source": [
    "### Answer 1"
   ]
  },
  {
   "cell_type": "markdown",
   "id": "ed73350d-c0cf-4ba5-8370-a9b82b741ea4",
   "metadata": {},
   "source": [
    "A tuple is a collection datatype in Python.\n",
    "* It is ordered\n",
    "* It is unchangeable.\n",
    "* It is indexed.\n",
    "\n",
    "A tuple is immutable. We cannot add or remove items from a tuple."
   ]
  },
  {
   "cell_type": "markdown",
   "id": "d87a04cc-9ca3-4525-8243-24f07e44d999",
   "metadata": {},
   "source": [
    "### Answer 2"
   ]
  },
  {
   "cell_type": "markdown",
   "id": "cc83a8e1-10ea-45c0-89ab-b8caea8c056e",
   "metadata": {},
   "source": [
    "The two tuple methods are - \n",
    "* index()\n",
    "* count()"
   ]
  },
  {
   "cell_type": "markdown",
   "id": "1e518972-10d7-4305-a1bb-cfff9b4473a3",
   "metadata": {},
   "source": [
    "##### index() method"
   ]
  },
  {
   "cell_type": "code",
   "execution_count": 9,
   "id": "5bb48d92-e4e7-4d61-953a-178fbf801cc4",
   "metadata": {},
   "outputs": [
    {
     "data": {
      "text/plain": [
       "3"
      ]
     },
     "execution_count": 9,
     "metadata": {},
     "output_type": "execute_result"
    }
   ],
   "source": [
    "t1 = (1,2,3,4,45,2.56,(2+6j),\"Abhishek\",True)\n",
    "\n",
    "t1.index(4)"
   ]
  },
  {
   "cell_type": "markdown",
   "id": "1f64970c-0005-4821-97b5-3bef95656daf",
   "metadata": {},
   "source": [
    "##### count() method"
   ]
  },
  {
   "cell_type": "code",
   "execution_count": 10,
   "id": "0a8d326e-c494-441b-89bb-b52273dfed36",
   "metadata": {},
   "outputs": [
    {
     "data": {
      "text/plain": [
       "1"
      ]
     },
     "execution_count": 10,
     "metadata": {},
     "output_type": "execute_result"
    }
   ],
   "source": [
    "t1.count(2)"
   ]
  },
  {
   "cell_type": "markdown",
   "id": "48e70d4f-3656-4b02-9c94-78895509323a",
   "metadata": {},
   "source": [
    "Tuples have only two in-built methods as compared to lists. Tuples and lists have some differences in their functionality and behaviour. On of the main differences is that tuples are immutable, and hence they cannot be changed once created. Whereas lists are mutable, and they can be modified.\n",
    "\n",
    "For example, the append() method is used to add elements to a list. But this method cannot be used on tuples, because tuples are immutable. Therefore, tuples have only two methods - index() and count(). These methods do not modify the tuple, but only return some information about it."
   ]
  },
  {
   "cell_type": "markdown",
   "id": "7abc5f11-a606-417e-aed4-01e43e5ed9fd",
   "metadata": {},
   "source": [
    "### Answer 3"
   ]
  },
  {
   "cell_type": "markdown",
   "id": "7c59a205-a2ec-42e8-b8e3-15149a077832",
   "metadata": {},
   "source": [
    "Sets are the datatypes that do not allow duplicate values. "
   ]
  },
  {
   "cell_type": "code",
   "execution_count": 11,
   "id": "ed6d62a5-758e-4168-8d70-a75c9250e7eb",
   "metadata": {},
   "outputs": [
    {
     "name": "stdout",
     "output_type": "stream",
     "text": [
      "[1, 2, 3, 4]\n"
     ]
    }
   ],
   "source": [
    "lst = [1, 1, 1, 2, 1, 3, 1, 4, 2, 1, 2, 2, 2, 3, 2, 4, 3, 1, 3, 2, 3, 3, 3, 4, 4, 1, 4, 2, 4, 3, 4, 4]\n",
    "lst = list(set(lst))\n",
    "\n",
    "print(lst)"
   ]
  },
  {
   "cell_type": "markdown",
   "id": "4ac8f871-8506-4b31-99ed-d78f9cfe995f",
   "metadata": {},
   "source": [
    "### Answer 4"
   ]
  },
  {
   "cell_type": "markdown",
   "id": "30d54fbd-24de-439b-a8b7-6e4aff6d7fe9",
   "metadata": {},
   "source": [
    "* union() method in sets is used to return the union of sets as a new set (i.e., all elements that are in either set)\n",
    "* update() method is used to update a set with the union of itself and others.\n",
    "\n",
    "The difference is that update() method performs in-place operation (i.e., it will directly change the content of the set). Whereas union operation \n",
    "will not change the content of the set."
   ]
  },
  {
   "cell_type": "markdown",
   "id": "3c5b2754-6188-40a9-b63b-71dfe9f57386",
   "metadata": {},
   "source": [
    "##### union() method"
   ]
  },
  {
   "cell_type": "code",
   "execution_count": 22,
   "id": "841e94cd-2ee1-4514-8e0a-9fd24104a8dd",
   "metadata": {},
   "outputs": [
    {
     "data": {
      "text/plain": [
       "{1, 2, 3, 4, 5, 6}"
      ]
     },
     "execution_count": 22,
     "metadata": {},
     "output_type": "execute_result"
    }
   ],
   "source": [
    "s1 = {1,2,3,4}\n",
    "s2 = {1,2,5,6}\n",
    "\n",
    "s1.union(s2)"
   ]
  },
  {
   "cell_type": "code",
   "execution_count": 23,
   "id": "64637449-30f2-417d-bddf-faa8d6f04e5e",
   "metadata": {},
   "outputs": [
    {
     "data": {
      "text/plain": [
       "{1, 2, 3, 4}"
      ]
     },
     "execution_count": 23,
     "metadata": {},
     "output_type": "execute_result"
    }
   ],
   "source": [
    "## content of the set is unchanged\n",
    "s1"
   ]
  },
  {
   "cell_type": "markdown",
   "id": "0746aa4c-772b-49e1-be1a-693e4502b124",
   "metadata": {},
   "source": [
    "##### update() method"
   ]
  },
  {
   "cell_type": "code",
   "execution_count": 24,
   "id": "cd7c5165-7b5b-4c2f-8b0b-ec306d33d69e",
   "metadata": {},
   "outputs": [],
   "source": [
    "s1.update(s2)"
   ]
  },
  {
   "cell_type": "code",
   "execution_count": 25,
   "id": "1b3d7aad-88a6-4c20-8b9c-e11c24a3533c",
   "metadata": {},
   "outputs": [
    {
     "data": {
      "text/plain": [
       "{1, 2, 3, 4, 5, 6}"
      ]
     },
     "execution_count": 25,
     "metadata": {},
     "output_type": "execute_result"
    }
   ],
   "source": [
    "s1"
   ]
  },
  {
   "cell_type": "markdown",
   "id": "942fd16c-6614-4cc3-b62b-c7f035d99d6c",
   "metadata": {},
   "source": [
    "### Answer 5"
   ]
  },
  {
   "cell_type": "markdown",
   "id": "9f33bcfd-6788-4d9a-b681-29c1c4ae3418",
   "metadata": {},
   "source": [
    "A dictionary is a collection that allows us to store data in key-value pairs.\n",
    "* It is used to store data values like a map."
   ]
  },
  {
   "cell_type": "code",
   "execution_count": 26,
   "id": "5f3200b7-dc9b-40e8-9ac6-4a0a5d01aae8",
   "metadata": {},
   "outputs": [
    {
     "name": "stdout",
     "output_type": "stream",
     "text": [
      "{'Name': 'Abhishek', 'Roll': 3, 'Branch': 'IT', 'Subject': 'Data Science'}\n"
     ]
    }
   ],
   "source": [
    "dct = {\"Name\" : \"Abhishek\", \"Roll\" : 3, \"Branch\" : \"IT\", \"Subject\" : \"Data Science\"}\n",
    "\n",
    "print(dct)"
   ]
  },
  {
   "cell_type": "markdown",
   "id": "655b6be4-8df1-450a-bf98-4879e1e0e6ef",
   "metadata": {},
   "source": [
    "A dictionary is an unordered collection."
   ]
  },
  {
   "cell_type": "markdown",
   "id": "350855b8-1344-4831-a1f3-2420e24d1d90",
   "metadata": {},
   "source": [
    "### Answer 6 "
   ]
  },
  {
   "cell_type": "markdown",
   "id": "43d604b9-41ce-4fba-ac12-4cddde48cc5d",
   "metadata": {},
   "source": [
    "Yes, we can create a nested dictionary."
   ]
  },
  {
   "cell_type": "code",
   "execution_count": 27,
   "id": "8fadadae-5d63-4996-b0e0-ee7990c3f2d7",
   "metadata": {},
   "outputs": [
    {
     "name": "stdout",
     "output_type": "stream",
     "text": [
      "{'Name': 'Abhishek', 'Subjects': {1: 'Data Science', 2: 'DSA', 3: 'Operating Systems'}}\n"
     ]
    }
   ],
   "source": [
    "dct1 = {\"Name\" : \"Abhishek\", \"Subjects\" : {1 : \"Data Science\", 2 : \"DSA\", 3 : \"Operating Systems\"}}\n",
    "\n",
    "print(dct1)"
   ]
  },
  {
   "cell_type": "markdown",
   "id": "ab8a8cc6-d7d1-428a-a441-6011cede7fd7",
   "metadata": {},
   "source": [
    "### Answer 7 "
   ]
  },
  {
   "cell_type": "code",
   "execution_count": 28,
   "id": "86818ab9-aa33-44ef-a689-cb8fc6bc3879",
   "metadata": {},
   "outputs": [
    {
     "data": {
      "text/plain": [
       "['Python', 'Machine Learning', 'Deep Learning']"
      ]
     },
     "execution_count": 28,
     "metadata": {},
     "output_type": "execute_result"
    }
   ],
   "source": [
    "dict1 = {'language' : 'Python', 'course': 'Data Science Masters'}\n",
    "\n",
    "dict1.setdefault(\"topics\",[\"Python\",\"Machine Learning\",\"Deep Learning\"])"
   ]
  },
  {
   "cell_type": "code",
   "execution_count": 29,
   "id": "3bc5d970-2032-44be-aa45-f2259bb2016c",
   "metadata": {},
   "outputs": [
    {
     "data": {
      "text/plain": [
       "{'language': 'Python',\n",
       " 'course': 'Data Science Masters',\n",
       " 'topics': ['Python', 'Machine Learning', 'Deep Learning']}"
      ]
     },
     "execution_count": 29,
     "metadata": {},
     "output_type": "execute_result"
    }
   ],
   "source": [
    "dict1"
   ]
  },
  {
   "cell_type": "markdown",
   "id": "110db563-9542-470d-9ec1-e547dc4dff10",
   "metadata": {},
   "source": [
    "### Answer 8"
   ]
  },
  {
   "cell_type": "markdown",
   "id": "7ea14226-4210-477b-9edd-48d776bf82be",
   "metadata": {},
   "source": [
    "The three view objects in dictionaries are - \n",
    "* keys\n",
    "* values\n",
    "* items"
   ]
  },
  {
   "cell_type": "code",
   "execution_count": 30,
   "id": "0509199e-80fb-4a8b-bfcd-e20ad67296ac",
   "metadata": {},
   "outputs": [],
   "source": [
    "dict1 = {'Sport': 'Cricket' , 'Teams': ['India', 'Australia', 'England', 'South Africa', 'Sri Lanka', 'New Zealand']}"
   ]
  },
  {
   "cell_type": "code",
   "execution_count": 31,
   "id": "940f2a4f-8982-41a8-bbde-42fee3bfe468",
   "metadata": {},
   "outputs": [
    {
     "data": {
      "text/plain": [
       "dict_keys(['Sport', 'Teams'])"
      ]
     },
     "execution_count": 31,
     "metadata": {},
     "output_type": "execute_result"
    }
   ],
   "source": [
    "dict1.keys()"
   ]
  },
  {
   "cell_type": "code",
   "execution_count": 32,
   "id": "9ef254e8-45ff-4ebf-b9a5-6d49945ca269",
   "metadata": {},
   "outputs": [
    {
     "data": {
      "text/plain": [
       "dict_values(['Cricket', ['India', 'Australia', 'England', 'South Africa', 'Sri Lanka', 'New Zealand']])"
      ]
     },
     "execution_count": 32,
     "metadata": {},
     "output_type": "execute_result"
    }
   ],
   "source": [
    "dict1.values()"
   ]
  },
  {
   "cell_type": "code",
   "execution_count": 33,
   "id": "bb4752c0-4be4-43c0-8129-174b32e9a49c",
   "metadata": {},
   "outputs": [
    {
     "data": {
      "text/plain": [
       "dict_items([('Sport', 'Cricket'), ('Teams', ['India', 'Australia', 'England', 'South Africa', 'Sri Lanka', 'New Zealand'])])"
      ]
     },
     "execution_count": 33,
     "metadata": {},
     "output_type": "execute_result"
    }
   ],
   "source": [
    "dict1.items()"
   ]
  },
  {
   "cell_type": "code",
   "execution_count": null,
   "id": "67fe2e88-9643-4637-973d-8f66d93d3b16",
   "metadata": {},
   "outputs": [],
   "source": []
  },
  {
   "cell_type": "code",
   "execution_count": null,
   "id": "b5ef013f-5a42-45ec-bb31-c896bd5790ed",
   "metadata": {},
   "outputs": [],
   "source": []
  },
  {
   "cell_type": "code",
   "execution_count": null,
   "id": "4795e930-2a2b-487b-82cd-14c6cddcdc34",
   "metadata": {},
   "outputs": [],
   "source": []
  },
  {
   "cell_type": "code",
   "execution_count": null,
   "id": "e312c74d-e314-46ab-b04a-fb3d0edd851c",
   "metadata": {},
   "outputs": [],
   "source": []
  },
  {
   "cell_type": "code",
   "execution_count": null,
   "id": "50924fc7-8e26-4b0c-b23d-6e14cbc0b501",
   "metadata": {},
   "outputs": [],
   "source": []
  },
  {
   "cell_type": "code",
   "execution_count": null,
   "id": "b4065622-f087-4ac2-aae1-77f103aaae4f",
   "metadata": {},
   "outputs": [],
   "source": []
  },
  {
   "cell_type": "code",
   "execution_count": null,
   "id": "42f27893-f2ec-4697-9b5e-ebef1cd8e99d",
   "metadata": {},
   "outputs": [],
   "source": []
  },
  {
   "cell_type": "code",
   "execution_count": null,
   "id": "e707d41a-7466-44e1-891f-15d0b7c07501",
   "metadata": {},
   "outputs": [],
   "source": []
  },
  {
   "cell_type": "code",
   "execution_count": null,
   "id": "235afceb-0e3b-4ffc-ae2a-c34829794154",
   "metadata": {},
   "outputs": [],
   "source": []
  },
  {
   "cell_type": "code",
   "execution_count": null,
   "id": "f6fb40ef-c418-4fad-93b6-234fa5186c70",
   "metadata": {},
   "outputs": [],
   "source": []
  },
  {
   "cell_type": "code",
   "execution_count": null,
   "id": "d47479d0-fda0-42df-b74e-20ce7b0d5785",
   "metadata": {},
   "outputs": [],
   "source": []
  },
  {
   "cell_type": "code",
   "execution_count": null,
   "id": "b0993eb2-17ed-4256-a1a5-588b332c1897",
   "metadata": {},
   "outputs": [],
   "source": []
  },
  {
   "cell_type": "code",
   "execution_count": null,
   "id": "62c4cafd-424a-4174-90d7-38c3d5330935",
   "metadata": {},
   "outputs": [],
   "source": []
  }
 ],
 "metadata": {
  "kernelspec": {
   "display_name": "Python 3 (ipykernel)",
   "language": "python",
   "name": "python3"
  },
  "language_info": {
   "codemirror_mode": {
    "name": "ipython",
    "version": 3
   },
   "file_extension": ".py",
   "mimetype": "text/x-python",
   "name": "python",
   "nbconvert_exporter": "python",
   "pygments_lexer": "ipython3",
   "version": "3.10.8"
  }
 },
 "nbformat": 4,
 "nbformat_minor": 5
}
