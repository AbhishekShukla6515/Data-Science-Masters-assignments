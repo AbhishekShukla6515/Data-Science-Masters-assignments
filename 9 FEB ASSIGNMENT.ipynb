{
 "cells": [
  {
   "cell_type": "markdown",
   "id": "cf98325f-8330-4ad0-b428-65b4e075bf07",
   "metadata": {},
   "source": [
    "# 9 FEB ASSIGNMENT (OOPs Task)"
   ]
  },
  {
   "cell_type": "markdown",
   "id": "c8c40a99-d575-4f5b-af92-3d40b394a328",
   "metadata": {},
   "source": [
    "### ANSWER 1"
   ]
  },
  {
   "cell_type": "code",
   "execution_count": 1,
   "id": "9ac7b72e-1f25-4513-a7c5-d63a98d45f10",
   "metadata": {},
   "outputs": [],
   "source": [
    "class vehicle:\n",
    "    \n",
    "    def __init__(self, name_of_vehicle, max_speed, average_of_vehicle):\n",
    "        self.name_of_vehicle = name_of_vehicle\n",
    "        self.max_speed = max_speed\n",
    "        self.average_of_vehicle = average_of_vehicle"
   ]
  },
  {
   "cell_type": "code",
   "execution_count": 3,
   "id": "d147c67b-924b-4c27-88ef-84f3db8214da",
   "metadata": {},
   "outputs": [],
   "source": [
    "obj1 = vehicle(\"Innova\",150,12)   ## object of vehicle class"
   ]
  },
  {
   "cell_type": "code",
   "execution_count": 5,
   "id": "7192c7df-92ca-4ab7-a2f6-0cdf1762527d",
   "metadata": {},
   "outputs": [
    {
     "data": {
      "text/plain": [
       "__main__.vehicle"
      ]
     },
     "execution_count": 5,
     "metadata": {},
     "output_type": "execute_result"
    }
   ],
   "source": [
    "type(obj1)"
   ]
  },
  {
   "cell_type": "markdown",
   "id": "d79824a2-cb69-4e60-9f8a-5d67591b776d",
   "metadata": {},
   "source": [
    "### ANSWER 2"
   ]
  },
  {
   "cell_type": "code",
   "execution_count": 13,
   "id": "19c19803-c8a9-4838-acc8-9e8f9f8ddc1f",
   "metadata": {},
   "outputs": [],
   "source": [
    "class car(vehicle):  ## child class of vehicle class\n",
    "    \n",
    "    def seating_capacity(self,capacity):\n",
    "        return self.name_of_vehicle,capacity"
   ]
  },
  {
   "cell_type": "code",
   "execution_count": 14,
   "id": "9aa09f1c-eeb3-422f-8618-7230fd31701c",
   "metadata": {},
   "outputs": [],
   "source": [
    "obj_car = car(\"Toyota Fortuner\", 170, 10)   ## object of car class"
   ]
  },
  {
   "cell_type": "code",
   "execution_count": 15,
   "id": "0ba5309b-6e8c-44ea-9e0b-2172576125fc",
   "metadata": {},
   "outputs": [
    {
     "data": {
      "text/plain": [
       "('Toyota Fortuner', 7)"
      ]
     },
     "execution_count": 15,
     "metadata": {},
     "output_type": "execute_result"
    }
   ],
   "source": [
    "obj_car.seating_capacity(7)"
   ]
  },
  {
   "cell_type": "markdown",
   "id": "7d0672ea-0606-463b-8e68-416495197b5a",
   "metadata": {},
   "source": [
    "### ANSWER 3"
   ]
  },
  {
   "cell_type": "markdown",
   "id": "2ac0bdba-ca0f-4d14-ba83-c37fdbad3771",
   "metadata": {},
   "source": [
    "#### Multiple inheritance\n",
    "\n",
    "When a child class inherits from multiple parent classes, it is called multiple inheritances. "
   ]
  },
  {
   "cell_type": "code",
   "execution_count": 19,
   "id": "1cefad90-015a-41a5-bec5-1a29537ad345",
   "metadata": {},
   "outputs": [],
   "source": [
    "class class_A:\n",
    "    \n",
    "    def show_A(self):\n",
    "        print(\"This is class A.\")"
   ]
  },
  {
   "cell_type": "code",
   "execution_count": 20,
   "id": "f2fd4175-33f3-472c-9288-271af40f1b04",
   "metadata": {},
   "outputs": [],
   "source": [
    "class class_B:\n",
    "    \n",
    "    def show_B(self):\n",
    "        print(\"This is class B.\")"
   ]
  },
  {
   "cell_type": "code",
   "execution_count": 22,
   "id": "5ebcd76b-5b3b-481a-a612-bc17ebeeefc8",
   "metadata": {},
   "outputs": [],
   "source": [
    "class class_C(class_A, class_B):  ## inherit from both class_A and class_B\n",
    "    pass"
   ]
  },
  {
   "cell_type": "code",
   "execution_count": 23,
   "id": "be076636-fe7c-4891-a4cd-2ce8b1163d9a",
   "metadata": {},
   "outputs": [],
   "source": [
    "obj_C = class_C()  ## object of class_C"
   ]
  },
  {
   "cell_type": "code",
   "execution_count": 24,
   "id": "1e3e05b5-6733-4f68-8057-856b1ff365b9",
   "metadata": {},
   "outputs": [
    {
     "name": "stdout",
     "output_type": "stream",
     "text": [
      "This is class A.\n"
     ]
    }
   ],
   "source": [
    "obj_C.show_A()"
   ]
  },
  {
   "cell_type": "code",
   "execution_count": 25,
   "id": "25236bf8-a438-4c8d-806c-d812ba7d4511",
   "metadata": {},
   "outputs": [
    {
     "name": "stdout",
     "output_type": "stream",
     "text": [
      "This is class B.\n"
     ]
    }
   ],
   "source": [
    "obj_C.show_B()"
   ]
  },
  {
   "cell_type": "markdown",
   "id": "27f927e6-83aa-4733-b645-1221d044e6c2",
   "metadata": {},
   "source": [
    "### ANSWER 4"
   ]
  },
  {
   "cell_type": "markdown",
   "id": "f6aedda3-9b0b-4876-abf3-33206c46bab5",
   "metadata": {},
   "source": [
    "Getters and Setters are methods used to ensure data encapsulation.\n",
    "* We use getters and setters to add validation logic around getting and setting a value\n",
    "* To avoid direct access or modification of private variables of a class by external user."
   ]
  },
  {
   "cell_type": "code",
   "execution_count": 26,
   "id": "3633ce02-676c-430e-8c5e-5fef270dfed7",
   "metadata": {},
   "outputs": [],
   "source": [
    "class personal_details:\n",
    "    \n",
    "    def __init__(self,city):\n",
    "        self.__city = city\n",
    "        \n",
    "    ## getter method\n",
    "    def get_address(self):\n",
    "        return self.__city\n",
    "    \n",
    "    ## setter method\n",
    "    def set_address(self,name):\n",
    "        self.__city = name"
   ]
  },
  {
   "cell_type": "code",
   "execution_count": 34,
   "id": "3fbd777b-791e-46ec-8215-a95277ed4b08",
   "metadata": {},
   "outputs": [],
   "source": [
    "obj = personal_details(\"Kanpur\")"
   ]
  },
  {
   "cell_type": "code",
   "execution_count": 35,
   "id": "318a9b04-0e4e-48a9-8156-50d74ce3840b",
   "metadata": {},
   "outputs": [
    {
     "data": {
      "text/plain": [
       "'Kanpur'"
      ]
     },
     "execution_count": 35,
     "metadata": {},
     "output_type": "execute_result"
    }
   ],
   "source": [
    "obj.get_address()"
   ]
  },
  {
   "cell_type": "code",
   "execution_count": 36,
   "id": "92243748-46e1-47da-9e5a-fb73d3a8fa55",
   "metadata": {},
   "outputs": [],
   "source": [
    "obj.set_address(\"Lucknow\")"
   ]
  },
  {
   "cell_type": "code",
   "execution_count": 37,
   "id": "e1fbacc5-2836-42a7-826d-dcba1bd1fc41",
   "metadata": {},
   "outputs": [
    {
     "data": {
      "text/plain": [
       "'Lucknow'"
      ]
     },
     "execution_count": 37,
     "metadata": {},
     "output_type": "execute_result"
    }
   ],
   "source": [
    "obj.get_address()  ## value changed"
   ]
  },
  {
   "cell_type": "markdown",
   "id": "e38d9284-3bf2-4093-91fe-7e1bdedd0806",
   "metadata": {},
   "source": [
    "### ANSWER 5"
   ]
  },
  {
   "cell_type": "markdown",
   "id": "3a1d283f-c3e5-4859-be3f-03e582644eea",
   "metadata": {},
   "source": [
    "#### Method Overriding\n",
    "\n",
    "Method overriding allows a subclass or child class to provide a specific implementation of a method that is already provided by one of its super-classes or parent classes."
   ]
  },
  {
   "cell_type": "markdown",
   "id": "c2554ed3-3989-481b-9478-af8cbd281b10",
   "metadata": {},
   "source": [
    "When a method in a subclass has the same name, same parameters or signature and same return type(or sub-type) as a method in its super-class, then the method in the subclass is said to override the method in the super-class."
   ]
  },
  {
   "cell_type": "code",
   "execution_count": 38,
   "id": "ad277105-814d-4b46-ade7-b0bca6409ed5",
   "metadata": {},
   "outputs": [],
   "source": [
    "class Parent:\n",
    "    \n",
    "    def show(self):\n",
    "        print(\"This is parent.\")"
   ]
  },
  {
   "cell_type": "code",
   "execution_count": 39,
   "id": "356b5e05-0ea9-487d-90c7-42dbb1610c78",
   "metadata": {},
   "outputs": [],
   "source": [
    "class Child(Parent):\n",
    "    \n",
    "    def show(self):\n",
    "        print(\"This is child.\")"
   ]
  },
  {
   "cell_type": "code",
   "execution_count": 40,
   "id": "9377be34-4fee-48dd-8729-52b95db3b925",
   "metadata": {},
   "outputs": [],
   "source": [
    "obj_child = Child() ## object of child class"
   ]
  },
  {
   "cell_type": "code",
   "execution_count": 42,
   "id": "57134c33-f0a4-4698-b078-4caf60839fc7",
   "metadata": {},
   "outputs": [
    {
     "name": "stdout",
     "output_type": "stream",
     "text": [
      "This is child.\n"
     ]
    }
   ],
   "source": [
    "obj_child.show()  ## method overridden"
   ]
  },
  {
   "cell_type": "code",
   "execution_count": null,
   "id": "151e24fe-146e-40ab-8d89-f5801bc248fd",
   "metadata": {},
   "outputs": [],
   "source": []
  }
 ],
 "metadata": {
  "kernelspec": {
   "display_name": "Python 3 (ipykernel)",
   "language": "python",
   "name": "python3"
  },
  "language_info": {
   "codemirror_mode": {
    "name": "ipython",
    "version": 3
   },
   "file_extension": ".py",
   "mimetype": "text/x-python",
   "name": "python",
   "nbconvert_exporter": "python",
   "pygments_lexer": "ipython3",
   "version": "3.10.8"
  }
 },
 "nbformat": 4,
 "nbformat_minor": 5
}
