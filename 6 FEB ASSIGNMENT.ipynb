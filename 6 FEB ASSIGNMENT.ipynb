{
 "cells": [
  {
   "cell_type": "markdown",
   "id": "51c1b521-786c-4c1d-a9a6-925117cf2915",
   "metadata": {},
   "source": [
    "# 6 FEB ASSIGNMENT (Task - 1)"
   ]
  },
  {
   "cell_type": "markdown",
   "id": "55e9762b-d130-47a2-ac30-902ce85afefa",
   "metadata": {},
   "source": [
    "### ANSWER 1"
   ]
  },
  {
   "cell_type": "code",
   "execution_count": 50,
   "id": "5d416faf-b84b-4e34-abaf-cd0bc11226b6",
   "metadata": {},
   "outputs": [],
   "source": [
    "## function for creating a flat list\n",
    "\n",
    "def flatten(l):\n",
    "    lst = []\n",
    "    \n",
    "    for i in l:\n",
    "        if type(i)==list or type(i)==tuple or type(i)==set:\n",
    "            lst.extend(flatten(i))\n",
    "        elif type(i)==dict:\n",
    "            lst.extend(flatten(i.keys()) + flatten(i.values()))\n",
    "        else:\n",
    "            lst.append(i)\n",
    "            \n",
    "    return lst"
   ]
  },
  {
   "cell_type": "code",
   "execution_count": 51,
   "id": "21845802-a8c1-485d-80bc-79627034705e",
   "metadata": {},
   "outputs": [],
   "source": [
    "## function for finding product\n",
    "\n",
    "def product(l):\n",
    "    l = flatten(l) ## to get a flat list\n",
    "    num = 1\n",
    "    \n",
    "    for i in l:\n",
    "        if type(i)==int or type(i)==float:\n",
    "            num = num*i\n",
    "            \n",
    "    return num"
   ]
  },
  {
   "cell_type": "code",
   "execution_count": 52,
   "id": "85878632-1009-4f06-b0c5-512b597e5cd9",
   "metadata": {},
   "outputs": [],
   "source": [
    "list1 = list1 = [1,2,3,4, [44,55,66, True], False, (34,56,78,89,34), {1,2,3,3,2,1}, {1:34, \"key2\": [55, 67, 78, 89], 4: (45,\n",
    "22, 61, 34)}, [56, 'data science'], 'Machine Learning']"
   ]
  },
  {
   "cell_type": "code",
   "execution_count": 53,
   "id": "bbd91898-6bfb-4120-8596-45a2b514ffd5",
   "metadata": {},
   "outputs": [
    {
     "data": {
      "text/plain": [
       "4134711838987085478833841242112000"
      ]
     },
     "execution_count": 53,
     "metadata": {},
     "output_type": "execute_result"
    }
   ],
   "source": [
    "product(list1)"
   ]
  },
  {
   "cell_type": "markdown",
   "id": "09595065-d37a-452c-b0a8-d07275fac6a8",
   "metadata": {},
   "source": [
    "### ANSWER 2"
   ]
  },
  {
   "cell_type": "code",
   "execution_count": 62,
   "id": "362ff8c7-9596-4f38-bb09-63bf9fcc1fc9",
   "metadata": {},
   "outputs": [],
   "source": [
    "def encrypt(s):\n",
    "    string = \"abcdefghijklmnopqrstuvwxyz\"\n",
    "    string_rev = string[::-1]\n",
    "    str1 = \"\"\n",
    "    \n",
    "    for i in s.lower():\n",
    "        if i==\" \":\n",
    "            str1+=\"$\"\n",
    "        elif i in [\",\", \":\", \".\", \";\", \"?\", \"!\", \"-\", \"'\", '\"', \"[\", \"]\", \"{\", \"}\", \"(\", \")\"]:\n",
    "            str1+=i\n",
    "        else:\n",
    "            str1+= string_rev[string.find(i)]\n",
    "            \n",
    "    return str1"
   ]
  },
  {
   "cell_type": "code",
   "execution_count": 63,
   "id": "bb9bfba3-313c-450e-b3a5-1ed723843e97",
   "metadata": {},
   "outputs": [],
   "source": [
    "sent = \"I want to become a Data Scientist.\""
   ]
  },
  {
   "cell_type": "code",
   "execution_count": 64,
   "id": "86edbddf-0632-4a75-b1ce-294cd570f1cb",
   "metadata": {},
   "outputs": [
    {
     "data": {
      "text/plain": [
       "'r$dzmg$gl$yvxlnv$z$wzgz$hxrvmgrhg.'"
      ]
     },
     "execution_count": 64,
     "metadata": {},
     "output_type": "execute_result"
    }
   ],
   "source": [
    "encrypt(sent)"
   ]
  },
  {
   "cell_type": "code",
   "execution_count": null,
   "id": "56a6a3ea-c27c-4cec-bdde-12568f34d8dc",
   "metadata": {},
   "outputs": [],
   "source": []
  }
 ],
 "metadata": {
  "kernelspec": {
   "display_name": "Python 3 (ipykernel)",
   "language": "python",
   "name": "python3"
  },
  "language_info": {
   "codemirror_mode": {
    "name": "ipython",
    "version": 3
   },
   "file_extension": ".py",
   "mimetype": "text/x-python",
   "name": "python",
   "nbconvert_exporter": "python",
   "pygments_lexer": "ipython3",
   "version": "3.10.8"
  }
 },
 "nbformat": 4,
 "nbformat_minor": 5
}
