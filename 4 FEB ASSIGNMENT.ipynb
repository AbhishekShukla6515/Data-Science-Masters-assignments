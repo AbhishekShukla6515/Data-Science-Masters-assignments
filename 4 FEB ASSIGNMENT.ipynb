{
 "cells": [
  {
   "cell_type": "markdown",
   "id": "e07d716d-44d3-46cc-9806-55e615bcf74e",
   "metadata": {},
   "source": [
    "# FEB 4 ASSIGNMENT"
   ]
  },
  {
   "cell_type": "markdown",
   "id": "44a9104c-3926-4f75-a155-c2d5d357d74e",
   "metadata": {},
   "source": [
    "### ANSWER 1"
   ]
  },
  {
   "cell_type": "code",
   "execution_count": 16,
   "id": "f284c194-acfd-4aac-a8a3-9cca2db7f981",
   "metadata": {},
   "outputs": [],
   "source": [
    "lst = [('Sachin Tendulkar', 34357), ('Ricky Ponting', 27483), ('Jack Kallis', 25534), ('Virat Kohli', 24936)]"
   ]
  },
  {
   "cell_type": "code",
   "execution_count": 17,
   "id": "7a802f5e-2652-4b30-8669-7a50be1e9b64",
   "metadata": {},
   "outputs": [
    {
     "data": {
      "text/plain": [
       "[('Virat Kohli', 24936),\n",
       " ('Jack Kallis', 25534),\n",
       " ('Ricky Ponting', 27483),\n",
       " ('Sachin Tendulkar', 34357)]"
      ]
     },
     "execution_count": 17,
     "metadata": {},
     "output_type": "execute_result"
    }
   ],
   "source": [
    "sorted(lst,key = lambda x : x[1])"
   ]
  },
  {
   "cell_type": "markdown",
   "id": "489120b1-889f-4c24-8460-9415c0412ee6",
   "metadata": {},
   "source": [
    "### ANSWER 2"
   ]
  },
  {
   "cell_type": "code",
   "execution_count": 18,
   "id": "98646f28-ef4a-4a35-87f9-91566a0239c1",
   "metadata": {},
   "outputs": [],
   "source": [
    "lst1 = [1, 2, 3, 4, 5, 6, 7, 8, 9, 10]"
   ]
  },
  {
   "cell_type": "code",
   "execution_count": 20,
   "id": "7ad0cbd6-a836-4743-88ed-e145e3577006",
   "metadata": {},
   "outputs": [
    {
     "data": {
      "text/plain": [
       "[1, 4, 9, 16, 25, 36, 49, 64, 81, 100]"
      ]
     },
     "execution_count": 20,
     "metadata": {},
     "output_type": "execute_result"
    }
   ],
   "source": [
    "list(map(lambda x : x**2, lst1))"
   ]
  },
  {
   "cell_type": "markdown",
   "id": "0c2cd139-ef8e-489b-8af6-4b34deebfb4b",
   "metadata": {},
   "source": [
    "### ANSWER 3"
   ]
  },
  {
   "cell_type": "code",
   "execution_count": 21,
   "id": "c8113e71-73bb-41e0-8d3a-d0ecdfa20d8e",
   "metadata": {},
   "outputs": [],
   "source": [
    "lst2 = [1, 2, 3, 4, 5, 6, 7, 8, 9, 10]"
   ]
  },
  {
   "cell_type": "code",
   "execution_count": 23,
   "id": "62d9faaa-ff8a-4327-8e2f-5b4eadb88c2e",
   "metadata": {},
   "outputs": [
    {
     "data": {
      "text/plain": [
       "('1', '2', '3', '4', '5', '6', '7', '8', '9', '10')"
      ]
     },
     "execution_count": 23,
     "metadata": {},
     "output_type": "execute_result"
    }
   ],
   "source": [
    "tuple(map(lambda x : str(x),lst2))"
   ]
  },
  {
   "cell_type": "markdown",
   "id": "faf705ca-8d8a-4893-9930-9ec62e6598c6",
   "metadata": {},
   "source": [
    "### ANSWER 4"
   ]
  },
  {
   "cell_type": "code",
   "execution_count": 26,
   "id": "d866b66f-6b80-4304-a02d-49c8b26818a5",
   "metadata": {},
   "outputs": [],
   "source": [
    "lst3 = [i for i in range(1,26)] # numbers from 1 to 25"
   ]
  },
  {
   "cell_type": "code",
   "execution_count": 27,
   "id": "7a4b2c9e-8dfe-47a5-a2de-04c7e2c4d3bf",
   "metadata": {},
   "outputs": [
    {
     "data": {
      "text/plain": [
       "15511210043330985984000000"
      ]
     },
     "execution_count": 27,
     "metadata": {},
     "output_type": "execute_result"
    }
   ],
   "source": [
    "from functools import reduce\n",
    "\n",
    "reduce(lambda x,y : x*y,lst3)"
   ]
  },
  {
   "cell_type": "markdown",
   "id": "1af51fb2-7c34-4ff0-95c9-0ae3d407fe95",
   "metadata": {},
   "source": [
    "### ANSWER 5"
   ]
  },
  {
   "cell_type": "code",
   "execution_count": 29,
   "id": "8915ac72-f1cb-4512-bc6f-bd373379782a",
   "metadata": {},
   "outputs": [],
   "source": [
    "lst4 = [2, 3, 6, 9, 27, 60, 90, 120, 55, 46]"
   ]
  },
  {
   "cell_type": "code",
   "execution_count": 31,
   "id": "7747216f-08bc-4d9d-8e1d-557a756fe5fc",
   "metadata": {},
   "outputs": [
    {
     "data": {
      "text/plain": [
       "[6, 60, 90, 120]"
      ]
     },
     "execution_count": 31,
     "metadata": {},
     "output_type": "execute_result"
    }
   ],
   "source": [
    "list(filter(lambda x : x%2==0 and x%3==0,lst4))"
   ]
  },
  {
   "cell_type": "markdown",
   "id": "9b9af2e5-b286-48db-9a81-fba701332030",
   "metadata": {},
   "source": [
    "### ANSWER 6"
   ]
  },
  {
   "cell_type": "code",
   "execution_count": 32,
   "id": "ff028889-e88e-4f62-8929-09a4a2af8f58",
   "metadata": {},
   "outputs": [],
   "source": [
    "lst5 = ['python', 'php', 'aba', 'radar', 'level']"
   ]
  },
  {
   "cell_type": "code",
   "execution_count": 35,
   "id": "609328f8-2def-4e7c-a1bf-89b5335bab3c",
   "metadata": {},
   "outputs": [
    {
     "data": {
      "text/plain": [
       "['php', 'aba', 'radar', 'level']"
      ]
     },
     "execution_count": 35,
     "metadata": {},
     "output_type": "execute_result"
    }
   ],
   "source": [
    "list(filter(lambda x : x == x[::-1], lst5))"
   ]
  },
  {
   "cell_type": "code",
   "execution_count": null,
   "id": "deb455d6-9979-47c5-8e6b-a4d01f6da45c",
   "metadata": {},
   "outputs": [],
   "source": []
  }
 ],
 "metadata": {
  "kernelspec": {
   "display_name": "Python 3 (ipykernel)",
   "language": "python",
   "name": "python3"
  },
  "language_info": {
   "codemirror_mode": {
    "name": "ipython",
    "version": 3
   },
   "file_extension": ".py",
   "mimetype": "text/x-python",
   "name": "python",
   "nbconvert_exporter": "python",
   "pygments_lexer": "ipython3",
   "version": "3.10.8"
  }
 },
 "nbformat": 4,
 "nbformat_minor": 5
}
