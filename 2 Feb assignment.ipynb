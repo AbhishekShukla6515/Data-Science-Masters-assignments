{
 "cells": [
  {
   "cell_type": "markdown",
   "id": "66440056-b1a8-4e1f-890f-3edf81d6b01e",
   "metadata": {},
   "source": [
    "# 2 FEB ASSIGNMENT "
   ]
  },
  {
   "cell_type": "markdown",
   "id": "988944c2-534e-424b-b42c-b67302d74db7",
   "metadata": {},
   "source": [
    "### ANSWER 1"
   ]
  },
  {
   "cell_type": "markdown",
   "id": "bb1e466b-fec6-485c-bca4-498c78d4f7db",
   "metadata": {},
   "source": [
    "Tuple is a collection datatype in Python.\n",
    "* It is ordered\n",
    "* It is unchangeable\n",
    "* It is indexed.\n",
    "\n",
    "A tuple is immutable. We cannot add or remove items from a tuple."
   ]
  },
  {
   "cell_type": "markdown",
   "id": "e369fb96-d42b-42b1-b49d-a4f78b954a39",
   "metadata": {},
   "source": [
    "### ANSWER 2"
   ]
  },
  {
   "cell_type": "markdown",
   "id": "3fdb33f0-441a-43dd-9da5-49ad0084d16a",
   "metadata": {},
   "source": [
    "The two tuple methods are  - \n",
    "* index()\n",
    "* count()"
   ]
  },
  {
   "cell_type": "markdown",
   "id": "9e364a30-28c9-4262-942c-5aa0c3014a11",
   "metadata": {},
   "source": [
    "##### index() method "
   ]
  },
  {
   "cell_type": "code",
   "execution_count": 232,
   "id": "a0b71881-8a90-447b-86f1-100f8b1965df",
   "metadata": {},
   "outputs": [
    {
     "data": {
      "text/plain": [
       "3"
      ]
     },
     "execution_count": 232,
     "metadata": {},
     "output_type": "execute_result"
    }
   ],
   "source": [
    "t1 = (1,2,3,4,\"Abhishek\",(2+3j),False)\n",
    "## return first index of a value\n",
    "t1.index(4)"
   ]
  },
  {
   "cell_type": "markdown",
   "id": "4808044e-0058-48f1-b56c-770b4ade35a6",
   "metadata": {},
   "source": [
    "##### count() method"
   ]
  },
  {
   "cell_type": "code",
   "execution_count": 233,
   "id": "47bf734d-9a32-49af-a9fd-16300e3b0cd6",
   "metadata": {},
   "outputs": [
    {
     "data": {
      "text/plain": [
       "1"
      ]
     },
     "execution_count": 233,
     "metadata": {},
     "output_type": "execute_result"
    }
   ],
   "source": [
    "## return number of occurrences of value\n",
    "t1.count(\"Abhishek\")"
   ]
  },
  {
   "cell_type": "markdown",
   "id": "0aefc7e4-46d4-430e-aa36-4d3eaffebc16",
   "metadata": {},
   "source": [
    "### ANSWER 3"
   ]
  },
  {
   "cell_type": "markdown",
   "id": "65e41c06-e198-4259-b3a5-fe3a6fecb0a1",
   "metadata": {},
   "source": [
    "Sets do not allow duplicate values."
   ]
  },
  {
   "cell_type": "code",
   "execution_count": 234,
   "id": "38c311fc-398d-4146-9922-ddfa3771fd29",
   "metadata": {},
   "outputs": [
    {
     "name": "stdout",
     "output_type": "stream",
     "text": [
      "[1, 2, 3, 4]\n"
     ]
    }
   ],
   "source": [
    "lst = [1,1,1,2,1,3,1,4,2,1,2,2,2,3,2,4,3,1,3,2,3,3,3,4,4,1,4,2,4,3,4,4]\n",
    "lst = list(set(lst))\n",
    "print(lst)"
   ]
  },
  {
   "cell_type": "markdown",
   "id": "f1dbdacb-235f-4dfe-8bcc-81d5c361cf4b",
   "metadata": {},
   "source": [
    "### ANSWER 4"
   ]
  },
  {
   "cell_type": "markdown",
   "id": "f2e9898b-b2cd-4f21-a066-48ec100bbd10",
   "metadata": {},
   "source": [
    "* union() method in sets is used to return the union of sets as a new set (i.e., all elements that are in either set)\n",
    "* update() method is used to update a set with the union of itself and others.\n",
    "\n",
    "The difference between the two is that update() method performs in-place operation. It will directly change the content of the set.\n",
    "Whereas union() operation will not change the content of the set."
   ]
  },
  {
   "cell_type": "markdown",
   "id": "7d11401c-bf6a-4514-832d-24a664233f52",
   "metadata": {},
   "source": [
    "##### union() method"
   ]
  },
  {
   "cell_type": "code",
   "execution_count": 235,
   "id": "8e06ee9a-9dbb-4bd7-832e-be5d09b96fc9",
   "metadata": {},
   "outputs": [
    {
     "data": {
      "text/plain": [
       "{1, 2, 3, 4, 6, 7}"
      ]
     },
     "execution_count": 235,
     "metadata": {},
     "output_type": "execute_result"
    }
   ],
   "source": [
    "s1 = {1,2,3,4}\n",
    "s2 = {1,2,6,7}\n",
    "\n",
    "s1.union(s2)"
   ]
  },
  {
   "cell_type": "code",
   "execution_count": 236,
   "id": "979accf9-662c-4fa2-b247-407f725757e9",
   "metadata": {},
   "outputs": [
    {
     "data": {
      "text/plain": [
       "{1, 2, 3, 4}"
      ]
     },
     "execution_count": 236,
     "metadata": {},
     "output_type": "execute_result"
    }
   ],
   "source": [
    "## s1 is unchanged\n",
    "s1"
   ]
  },
  {
   "cell_type": "markdown",
   "id": "68aae450-215f-467a-b3e7-e6501c907d17",
   "metadata": {},
   "source": [
    "##### update() method"
   ]
  },
  {
   "cell_type": "code",
   "execution_count": 239,
   "id": "fbc21b55-ac4c-4e64-be0a-f8f7a6f09e03",
   "metadata": {},
   "outputs": [],
   "source": [
    "s1.update(s2)"
   ]
  },
  {
   "cell_type": "code",
   "execution_count": 240,
   "id": "fa3e3155-3213-4456-9da0-579c278f6bfa",
   "metadata": {},
   "outputs": [
    {
     "data": {
      "text/plain": [
       "{1, 2, 3, 4, 6, 7}"
      ]
     },
     "execution_count": 240,
     "metadata": {},
     "output_type": "execute_result"
    }
   ],
   "source": [
    "## s1 is now changed\n",
    "s1"
   ]
  },
  {
   "cell_type": "markdown",
   "id": "7032160a-543e-4b03-a717-2034788c03fc",
   "metadata": {},
   "source": [
    "### ANSWER 5"
   ]
  },
  {
   "cell_type": "markdown",
   "id": "b5f6147d-6593-49c7-8e67-59333e983d75",
   "metadata": {},
   "source": [
    "A dictionary is a collection that allows us to store data in key-value pairs.\n",
    "* It is used to store data values like a map."
   ]
  },
  {
   "cell_type": "markdown",
   "id": "ebf378bc-4a4d-49fe-b83d-0845e21bb0da",
   "metadata": {},
   "source": [
    "###### Example"
   ]
  },
  {
   "cell_type": "code",
   "execution_count": 241,
   "id": "93949b1b-9159-4a91-bcca-a5a4fa9be996",
   "metadata": {},
   "outputs": [
    {
     "name": "stdout",
     "output_type": "stream",
     "text": [
      "{'Name': 'Abhishek', 'Roll': 3, 'Branch': 'IT', 'Subject': 'Data Science'}\n"
     ]
    }
   ],
   "source": [
    "dct = {\"Name\" : \"Abhishek\", \"Roll\" : 3, \"Branch\" : \"IT\", \"Subject\" : \"Data Science\"}\n",
    "print(dct)"
   ]
  },
  {
   "cell_type": "markdown",
   "id": "bf0b3882-c634-434f-8f10-a352aa787908",
   "metadata": {},
   "source": [
    "A dictionary is an unordered collection."
   ]
  },
  {
   "cell_type": "markdown",
   "id": "47488e09-2950-48a8-afbc-6d8e2cd489e3",
   "metadata": {},
   "source": [
    "### ANSWER 6"
   ]
  },
  {
   "cell_type": "markdown",
   "id": "891d2373-ac5c-44ef-8790-73c168087b7c",
   "metadata": {},
   "source": [
    "Yes, we can create a nested dictionary."
   ]
  },
  {
   "cell_type": "markdown",
   "id": "b69100f6-dd35-483c-9928-6c845edbd60f",
   "metadata": {},
   "source": [
    "###### Example"
   ]
  },
  {
   "cell_type": "code",
   "execution_count": 242,
   "id": "4fbf0e10-898b-4be6-abfa-d916f7c65899",
   "metadata": {},
   "outputs": [
    {
     "name": "stdout",
     "output_type": "stream",
     "text": [
      "{'dict1': {'name': 'Abhishek', 'age': 21}, 'dict2': {'name': 'Anshuman', 'age': 16}}\n"
     ]
    }
   ],
   "source": [
    "dct2 = {\"dict1\" : {\"name\" : \"Abhishek\", \"age\" : 21},\n",
    "        \"dict2\" : {\"name\" : \"Anshuman\", \"age\" : 16}}\n",
    "\n",
    "print(dct2)"
   ]
  },
  {
   "cell_type": "markdown",
   "id": "909e0c04-8e53-4fcf-b234-a1aeccb50e8e",
   "metadata": {},
   "source": [
    "### ANSWER 7"
   ]
  },
  {
   "cell_type": "code",
   "execution_count": 1,
   "id": "44990f01-b7c1-47b7-9969-f87a0043c591",
   "metadata": {},
   "outputs": [
    {
     "data": {
      "text/plain": [
       "['Python', 'Machine Learning', 'Deep Learning']"
      ]
     },
     "execution_count": 1,
     "metadata": {},
     "output_type": "execute_result"
    }
   ],
   "source": [
    "dict1 = {'language' : 'Python', 'course': 'Data Science Masters'}\n",
    "\n",
    "dict1.setdefault(\"topics\",[\"Python\",\"Machine Learning\",\"Deep Learning\"])"
   ]
  },
  {
   "cell_type": "code",
   "execution_count": 2,
   "id": "88fee17e-35ea-4fd5-9471-2e20646c816c",
   "metadata": {},
   "outputs": [
    {
     "data": {
      "text/plain": [
       "{'language': 'Python',\n",
       " 'course': 'Data Science Masters',\n",
       " 'topics': ['Python', 'Machine Learning', 'Deep Learning']}"
      ]
     },
     "execution_count": 2,
     "metadata": {},
     "output_type": "execute_result"
    }
   ],
   "source": [
    "dict1"
   ]
  },
  {
   "cell_type": "markdown",
   "id": "6f3d2ba8-3d54-47a8-919e-81e615f8175b",
   "metadata": {},
   "source": [
    "### ANSWER 8"
   ]
  },
  {
   "cell_type": "markdown",
   "id": "a9fdad7e-2088-4bb1-b92f-d0ce17ae0254",
   "metadata": {},
   "source": [
    "The three view objects in dictionary are - \n",
    "* keys\n",
    "* values \n",
    "* items"
   ]
  },
  {
   "cell_type": "code",
   "execution_count": 3,
   "id": "cf318d7a-0378-4132-9967-a8ef3829672c",
   "metadata": {},
   "outputs": [],
   "source": [
    "dict1 = {'Sport': 'Cricket' , 'Teams': ['India', 'Australia', 'England', 'South Africa', 'Sri Lanka', 'New Zealand']}"
   ]
  },
  {
   "cell_type": "code",
   "execution_count": 4,
   "id": "264933cc-9c1e-47ea-9850-8d65a48575b1",
   "metadata": {},
   "outputs": [
    {
     "data": {
      "text/plain": [
       "dict_keys(['Sport', 'Teams'])"
      ]
     },
     "execution_count": 4,
     "metadata": {},
     "output_type": "execute_result"
    }
   ],
   "source": [
    "## keys\n",
    "dict1.keys()"
   ]
  },
  {
   "cell_type": "code",
   "execution_count": 5,
   "id": "22ff1a61-3006-4a2f-b68c-fd78c3573627",
   "metadata": {},
   "outputs": [
    {
     "data": {
      "text/plain": [
       "dict_values(['Cricket', ['India', 'Australia', 'England', 'South Africa', 'Sri Lanka', 'New Zealand']])"
      ]
     },
     "execution_count": 5,
     "metadata": {},
     "output_type": "execute_result"
    }
   ],
   "source": [
    "## values\n",
    "dict1.values()"
   ]
  },
  {
   "cell_type": "code",
   "execution_count": 6,
   "id": "1897d6d6-b1f5-4712-9fec-981f89c17591",
   "metadata": {},
   "outputs": [
    {
     "data": {
      "text/plain": [
       "dict_items([('Sport', 'Cricket'), ('Teams', ['India', 'Australia', 'England', 'South Africa', 'Sri Lanka', 'New Zealand'])])"
      ]
     },
     "execution_count": 6,
     "metadata": {},
     "output_type": "execute_result"
    }
   ],
   "source": [
    "## items\n",
    "dict1.items()"
   ]
  },
  {
   "cell_type": "code",
   "execution_count": null,
   "id": "6b1e0e60-88d2-41b6-9879-93491d0e5859",
   "metadata": {},
   "outputs": [],
   "source": []
  }
 ],
 "metadata": {
  "kernelspec": {
   "display_name": "Python 3 (ipykernel)",
   "language": "python",
   "name": "python3"
  },
  "language_info": {
   "codemirror_mode": {
    "name": "ipython",
    "version": 3
   },
   "file_extension": ".py",
   "mimetype": "text/x-python",
   "name": "python",
   "nbconvert_exporter": "python",
   "pygments_lexer": "ipython3",
   "version": "3.10.8"
  }
 },
 "nbformat": 4,
 "nbformat_minor": 5
}
