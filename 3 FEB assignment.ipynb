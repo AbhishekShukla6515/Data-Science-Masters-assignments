{
 "cells": [
  {
   "cell_type": "markdown",
   "id": "44c95f83-d2d9-4c5b-8b09-a8982388bc28",
   "metadata": {},
   "source": [
    "# FEB 3 ASSIGNMENT"
   ]
  },
  {
   "cell_type": "markdown",
   "id": "faecd081-f6c2-4e79-b86f-db75a5b4d6fa",
   "metadata": {},
   "source": [
    "### ANSWER 1"
   ]
  },
  {
   "cell_type": "markdown",
   "id": "b3fe02ea-c35a-4436-a4ad-8c4afe0afbca",
   "metadata": {},
   "source": [
    "\"def\" keyword is used to create functions. "
   ]
  },
  {
   "cell_type": "code",
   "execution_count": 87,
   "id": "99c704d3-8bb9-4f83-97bd-454005e7319f",
   "metadata": {},
   "outputs": [],
   "source": [
    "## list of odd numbers in the range of 1 to 25\n",
    "\n",
    "def odd_num(a,b):\n",
    "    n = []\n",
    "    for i in range(a,b+1):\n",
    "        if i%2!=0:\n",
    "            n.append(i)\n",
    "            \n",
    "    return n"
   ]
  },
  {
   "cell_type": "code",
   "execution_count": 88,
   "id": "08c11aa8-2def-44c2-9f11-1f6041978c42",
   "metadata": {},
   "outputs": [
    {
     "data": {
      "text/plain": [
       "[1, 3, 5, 7, 9, 11, 13, 15, 17, 19, 21, 23, 25]"
      ]
     },
     "execution_count": 88,
     "metadata": {},
     "output_type": "execute_result"
    }
   ],
   "source": [
    "odd_num(1,25)"
   ]
  },
  {
   "cell_type": "markdown",
   "id": "c81ac6a8-70ba-4689-907f-7ed5844ef6f9",
   "metadata": {},
   "source": [
    "### ANSWER 2"
   ]
  },
  {
   "cell_type": "markdown",
   "id": "9c22346e-f84d-45e0-a734-73f8c732e34d",
   "metadata": {},
   "source": [
    "We use *args and **kwargs as arguments of a function when we are unsure about the number of arguments to pass in the functions.\n",
    "* *args is used to pass a variable number of arguments to a function.\n",
    "* **kwargs is used to pass a keyworded, variable-length argument list. "
   ]
  },
  {
   "cell_type": "markdown",
   "id": "7ccdaf03-3284-44b4-95da-c967ee4468c6",
   "metadata": {},
   "source": [
    "##### Example of *args"
   ]
  },
  {
   "cell_type": "code",
   "execution_count": 95,
   "id": "54ff0893-c414-47c6-88ca-0342a4e467a7",
   "metadata": {},
   "outputs": [],
   "source": [
    "def sum_of(*args):\n",
    "    n = 0\n",
    "    for i in args:\n",
    "        if type(i)==int or type(i)==float:\n",
    "            n+=i\n",
    "            \n",
    "    return n"
   ]
  },
  {
   "cell_type": "code",
   "execution_count": 96,
   "id": "24b02d95-7dcd-45c4-bbd6-742bda57eb3f",
   "metadata": {},
   "outputs": [
    {
     "data": {
      "text/plain": [
       "81.65"
      ]
     },
     "execution_count": 96,
     "metadata": {},
     "output_type": "execute_result"
    }
   ],
   "source": [
    "sum_of(1,2,3,4,5,45.56,21.09,\"Abhishek\",True)"
   ]
  },
  {
   "cell_type": "markdown",
   "id": "be837083-c6e4-4457-91d8-428544780d2d",
   "metadata": {},
   "source": [
    "##### Example of **kwargs"
   ]
  },
  {
   "cell_type": "code",
   "execution_count": 97,
   "id": "ccd50cee-f6cd-46f6-a095-e16e65407a9c",
   "metadata": {},
   "outputs": [],
   "source": [
    "def lst_element(**kwargs):\n",
    "    n = []\n",
    "    for i in kwargs.keys():\n",
    "        if type(kwargs[i])==list:\n",
    "            for j in kwargs[i]:\n",
    "                n.append(j)\n",
    "                \n",
    "    return n"
   ]
  },
  {
   "cell_type": "code",
   "execution_count": 98,
   "id": "f14f4207-84af-45e3-bd6e-81d1a8e7eb09",
   "metadata": {},
   "outputs": [
    {
     "data": {
      "text/plain": [
       "[1, 2, 3, 4, 5, 100, 200, 300, 400, 500]"
      ]
     },
     "execution_count": 98,
     "metadata": {},
     "output_type": "execute_result"
    }
   ],
   "source": [
    "lst_element(a = 1,b = 2,c =[1,2,3,4,5],d = (1,2,3,4,5),e = [100,200,300,400,500])"
   ]
  },
  {
   "cell_type": "markdown",
   "id": "8392ea02-2456-4792-be87-b26762d7bee5",
   "metadata": {},
   "source": [
    "### ANSWER 3"
   ]
  },
  {
   "cell_type": "markdown",
   "id": "ad1b74e1-aea9-4b27-9715-3e33340fb4aa",
   "metadata": {},
   "source": [
    "An iterator is an object that is used to iterate over iterable objects like lists, tuples, dictionaries and sets.\n",
    "\n",
    "* The iter() method is used to initialise the iterator object.\n",
    "* The next() method is used for iteration."
   ]
  },
  {
   "cell_type": "code",
   "execution_count": 99,
   "id": "b3d1311d-ec2a-4897-864c-716b02b6ec90",
   "metadata": {},
   "outputs": [],
   "source": [
    "l = [2,4,6,8,10,12,14,16,18,20]"
   ]
  },
  {
   "cell_type": "code",
   "execution_count": 116,
   "id": "e9ddcfe8-4ebf-4cff-8e6f-cda2b3b66e06",
   "metadata": {},
   "outputs": [],
   "source": [
    "lst = iter(l)"
   ]
  },
  {
   "cell_type": "code",
   "execution_count": 117,
   "id": "6a79fabe-8b4a-4be9-afb5-8452e52d49fd",
   "metadata": {},
   "outputs": [
    {
     "name": "stdout",
     "output_type": "stream",
     "text": [
      "2\n",
      "4\n",
      "6\n",
      "8\n",
      "10\n"
     ]
    }
   ],
   "source": [
    "## print first 5 elements\n",
    "for i in range(5):\n",
    "    print(next(lst))"
   ]
  },
  {
   "cell_type": "markdown",
   "id": "9c56671b-2c4c-47a4-a38b-f9e316b68058",
   "metadata": {},
   "source": [
    "### ANSWER 4"
   ]
  },
  {
   "cell_type": "markdown",
   "id": "b09088a7-7c8b-46fb-9452-7b2473fbc307",
   "metadata": {},
   "source": [
    "A generator function allows us to declare a function that behaves like an iterator. \n",
    "* Generators are useful when we want to produce a large sequence of values, but we don't want to store all of them in memory at once."
   ]
  },
  {
   "cell_type": "markdown",
   "id": "41d8b19a-8b7e-4353-8869-dade4f8bb95f",
   "metadata": {},
   "source": [
    "yield keyword is used to create a generator function.\n",
    "* It controls the flow of a generator function."
   ]
  },
  {
   "cell_type": "code",
   "execution_count": 118,
   "id": "27f58a2d-23e3-4780-b10e-32a5fe30d00e",
   "metadata": {},
   "outputs": [],
   "source": [
    "## example\n",
    "\n",
    "def fib(n):\n",
    "    a,b = 0,1\n",
    "    for i in range(n):\n",
    "        yield a\n",
    "        a,b = b,a+b"
   ]
  },
  {
   "cell_type": "code",
   "execution_count": 119,
   "id": "10152cf4-4f67-42a5-91a4-2a2dbdbf39f2",
   "metadata": {},
   "outputs": [
    {
     "data": {
      "text/plain": [
       "<generator object fib at 0x7fbf10fb8d60>"
      ]
     },
     "execution_count": 119,
     "metadata": {},
     "output_type": "execute_result"
    }
   ],
   "source": [
    "fib(7)"
   ]
  },
  {
   "cell_type": "code",
   "execution_count": 121,
   "id": "b4add948-fb83-421c-8e9f-217a09cd2b3f",
   "metadata": {},
   "outputs": [
    {
     "name": "stdout",
     "output_type": "stream",
     "text": [
      "0\n",
      "1\n",
      "1\n",
      "2\n",
      "3\n",
      "5\n",
      "8\n",
      "13\n",
      "21\n",
      "34\n"
     ]
    }
   ],
   "source": [
    "for i in fib(10):\n",
    "    print(i)"
   ]
  },
  {
   "cell_type": "markdown",
   "id": "356f02d1-bddd-47f6-95da-579fece6de52",
   "metadata": {},
   "source": [
    "### ANSWER 5"
   ]
  },
  {
   "cell_type": "code",
   "execution_count": 123,
   "id": "43d033dc-4fa0-4889-844f-e455364db3df",
   "metadata": {},
   "outputs": [],
   "source": [
    "def prime_num():\n",
    "    for i in range(1,1000):\n",
    "        count = 0\n",
    "        for k in range(2,i):\n",
    "            if i%k==0:\n",
    "                count+=1\n",
    "                \n",
    "        if count==0:\n",
    "            if i>1:\n",
    "                yield i    "
   ]
  },
  {
   "cell_type": "code",
   "execution_count": 125,
   "id": "82d7e3e9-7545-45f2-9875-2c95276249b8",
   "metadata": {},
   "outputs": [],
   "source": [
    "prime = prime_num()"
   ]
  },
  {
   "cell_type": "code",
   "execution_count": 126,
   "id": "b80eaf97-8706-4877-a4ac-e74238958818",
   "metadata": {},
   "outputs": [
    {
     "name": "stdout",
     "output_type": "stream",
     "text": [
      "2\n",
      "3\n",
      "5\n",
      "7\n",
      "11\n",
      "13\n",
      "17\n",
      "19\n",
      "23\n",
      "29\n",
      "31\n",
      "37\n",
      "41\n",
      "43\n",
      "47\n",
      "53\n",
      "59\n",
      "61\n",
      "67\n",
      "71\n"
     ]
    }
   ],
   "source": [
    "for i in range(20):\n",
    "    print(next(prime))"
   ]
  },
  {
   "cell_type": "code",
   "execution_count": null,
   "id": "f5e6949f-8d7b-43e9-ad85-12bc5977fb35",
   "metadata": {},
   "outputs": [],
   "source": []
  },
  {
   "cell_type": "code",
   "execution_count": null,
   "id": "9ad827ce-491e-4d61-a91f-e7fa8b7a1c2d",
   "metadata": {},
   "outputs": [],
   "source": []
  },
  {
   "cell_type": "code",
   "execution_count": null,
   "id": "25b20937-080f-40b8-b04d-20d08fa64779",
   "metadata": {},
   "outputs": [],
   "source": []
  }
 ],
 "metadata": {
  "kernelspec": {
   "display_name": "Python 3 (ipykernel)",
   "language": "python",
   "name": "python3"
  },
  "language_info": {
   "codemirror_mode": {
    "name": "ipython",
    "version": 3
   },
   "file_extension": ".py",
   "mimetype": "text/x-python",
   "name": "python",
   "nbconvert_exporter": "python",
   "pygments_lexer": "ipython3",
   "version": "3.10.8"
  }
 },
 "nbformat": 4,
 "nbformat_minor": 5
}
