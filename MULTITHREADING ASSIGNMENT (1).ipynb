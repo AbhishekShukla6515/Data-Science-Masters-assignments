{
 "cells": [
  {
   "cell_type": "markdown",
   "id": "3b278487-7c37-4987-828d-57a86f906651",
   "metadata": {},
   "source": [
    "# Multithreading Assignment"
   ]
  },
  {
   "cell_type": "markdown",
   "id": "92b83b18-3c90-4f79-acc9-50045c30b4ce",
   "metadata": {},
   "source": [
    "### ANSWER 1"
   ]
  },
  {
   "cell_type": "markdown",
   "id": "645a6b9b-1739-476f-b237-d514150507fa",
   "metadata": {},
   "source": [
    "Multithreading is defined as the ability of a processor to execute multiple threads concurrently. Multithreading in Python is popular technique that enables multiple tasks to be executed simultaneously. "
   ]
  },
  {
   "cell_type": "markdown",
   "id": "b6be64f5-ddcf-496a-a306-003ea5167458",
   "metadata": {},
   "source": [
    "It is used because it provides the following advantages - \n",
    "* It enables efficient utilization of the resources as the threads share the data space and memory.\n",
    "* It allows the concurrent and parallel occurrence of various tasks.\n",
    "* It causes a reduction in time consumption.\n",
    "* It increases the performance."
   ]
  },
  {
   "cell_type": "markdown",
   "id": "4c0f67b9-592d-49e9-8bfa-339b17018356",
   "metadata": {},
   "source": [
    "The threading module is used to handle threads in Python."
   ]
  },
  {
   "cell_type": "markdown",
   "id": "75303e08-ea8c-4728-8c45-0995e581178c",
   "metadata": {},
   "source": [
    "### ANSWER 2"
   ]
  },
  {
   "cell_type": "markdown",
   "id": "a82b0d52-0f26-417f-b930-52fc3d446004",
   "metadata": {},
   "source": [
    "The threading module is used for creating, controlling and managing threads in Python."
   ]
  },
  {
   "cell_type": "markdown",
   "id": "ddfa0899-c764-48e9-9a21-10ecbbceca12",
   "metadata": {},
   "source": [
    "#### 1. activeCount() - \n",
    "* It is an in-built method of the threading module. It is returns the number of Thread objects that are currently alive."
   ]
  },
  {
   "cell_type": "code",
   "execution_count": 1,
   "id": "fe0d6d54-799b-4575-9757-a964dd53a9e6",
   "metadata": {},
   "outputs": [],
   "source": [
    "import threading"
   ]
  },
  {
   "cell_type": "code",
   "execution_count": 2,
   "id": "fb3c81c1-5047-4e63-a831-c72ee73e5555",
   "metadata": {},
   "outputs": [],
   "source": [
    "def test1(x):\n",
    "    print(\"The square root is :\",x**(0.5))"
   ]
  },
  {
   "cell_type": "code",
   "execution_count": 3,
   "id": "21debeae-99f9-497c-a8d4-eb9ac95ce2fd",
   "metadata": {},
   "outputs": [],
   "source": [
    "thred = [threading.Thread(target = test1, args = (i,)) for i in [4,9,16,25]]"
   ]
  },
  {
   "cell_type": "code",
   "execution_count": 4,
   "id": "fb6bc924-6348-4a90-b5b4-fd7d6e258a3b",
   "metadata": {},
   "outputs": [
    {
     "data": {
      "text/plain": [
       "[<Thread(Thread-5 (test1), initial)>,\n",
       " <Thread(Thread-6 (test1), initial)>,\n",
       " <Thread(Thread-7 (test1), initial)>,\n",
       " <Thread(Thread-8 (test1), initial)>]"
      ]
     },
     "execution_count": 4,
     "metadata": {},
     "output_type": "execute_result"
    }
   ],
   "source": [
    "thred"
   ]
  },
  {
   "cell_type": "code",
   "execution_count": 5,
   "id": "eff34a82-c8b1-47e8-80a4-e56bc6102177",
   "metadata": {},
   "outputs": [
    {
     "name": "stdout",
     "output_type": "stream",
     "text": [
      "Number of active threads : 8\n"
     ]
    }
   ],
   "source": [
    "print(\"Number of active threads :\",threading.active_count())"
   ]
  },
  {
   "cell_type": "markdown",
   "id": "0bf46e85-5d5e-41e3-9047-6f0e7152f4e3",
   "metadata": {},
   "source": [
    "activeCount() has been deprecated. So, we use active_count()"
   ]
  },
  {
   "cell_type": "markdown",
   "id": "7fdf1e1a-025b-4a58-8818-9b66851ed4e2",
   "metadata": {},
   "source": [
    "#### 2. currentThread() - \n",
    "* It is an in-built method of the threading module and it is used to return the current Thread object, which corresponds to the caller's thread of control."
   ]
  },
  {
   "cell_type": "code",
   "execution_count": 7,
   "id": "86857339-0a5e-4398-98fb-08c63fc68a25",
   "metadata": {},
   "outputs": [
    {
     "name": "stdout",
     "output_type": "stream",
     "text": [
      "Active current thread right now : <_MainThread(MainThread, started 140200893466432)>\n"
     ]
    }
   ],
   "source": [
    "print(\"Active current thread right now :\", threading.current_thread())"
   ]
  },
  {
   "cell_type": "markdown",
   "id": "6693fffb-bb2b-4678-825b-3aa60b88f999",
   "metadata": {},
   "source": [
    "currentThread() has been deprecated. So we use current_thread()"
   ]
  },
  {
   "cell_type": "markdown",
   "id": "526e2c57-77ae-4ec7-ac72-13389663d728",
   "metadata": {},
   "source": [
    "#### 3. enumerate() - \n",
    "* It is an in-built method of the threading module and it is used to return a list of all Thread objects currently alive."
   ]
  },
  {
   "cell_type": "code",
   "execution_count": 9,
   "id": "8518b4e3-fc40-4ba3-bd66-a49d2278c368",
   "metadata": {},
   "outputs": [
    {
     "name": "stdout",
     "output_type": "stream",
     "text": [
      "Thread objects currently alive : [<_MainThread(MainThread, started 140200893466432)>, <Thread(IOPub, started daemon 140200751658560)>, <Heartbeat(Heartbeat, started daemon 140200743265856)>, <Thread(Thread-3 (_watch_pipe_fd), started daemon 140200718087744)>, <Thread(Thread-4 (_watch_pipe_fd), started daemon 140200709695040)>, <ControlThread(Control, started daemon 140200701302336)>, <HistorySavingThread(IPythonHistorySavingThread, started 140200349005376)>, <ParentPollerUnix(Thread-2, started daemon 140200340612672)>]\n"
     ]
    }
   ],
   "source": [
    "print(\"Thread objects currently alive :\",threading.enumerate())"
   ]
  },
  {
   "cell_type": "markdown",
   "id": "98802c34-7a97-4730-95fa-72770323e476",
   "metadata": {},
   "source": [
    "### ANSWER 3"
   ]
  },
  {
   "cell_type": "markdown",
   "id": "10ddf356-146e-4f1b-a8a3-ae5e4c83a123",
   "metadata": {},
   "source": [
    "#### 1. run() - \n",
    "* It is an in-built method of the Thread class of the threading module.\n",
    "* It is used to represent a thread's activity.\n",
    "* It calls the method expressed as the target argument in the Thread object along with the positional and keyword arguments taken from the args and kwargs arguments, respectively."
   ]
  },
  {
   "cell_type": "code",
   "execution_count": 10,
   "id": "3b50a14f-c997-4551-b977-602552a5efc6",
   "metadata": {},
   "outputs": [
    {
     "data": {
      "text/plain": [
       "[<Thread(Thread-5 (test1), initial)>,\n",
       " <Thread(Thread-6 (test1), initial)>,\n",
       " <Thread(Thread-7 (test1), initial)>,\n",
       " <Thread(Thread-8 (test1), initial)>]"
      ]
     },
     "execution_count": 10,
     "metadata": {},
     "output_type": "execute_result"
    }
   ],
   "source": [
    "thred"
   ]
  },
  {
   "cell_type": "code",
   "execution_count": 11,
   "id": "212f05ba-7c67-4fdd-aeab-8b468d74ea10",
   "metadata": {},
   "outputs": [
    {
     "name": "stdout",
     "output_type": "stream",
     "text": [
      "The square root is : 2.0\n",
      "The square root is : 3.0\n",
      "The square root is : 4.0\n",
      "The square root is : 5.0\n"
     ]
    }
   ],
   "source": [
    "for t in thred:\n",
    "    t.run()"
   ]
  },
  {
   "cell_type": "markdown",
   "id": "a84ba337-239d-4bf6-9939-b84ba6115e14",
   "metadata": {},
   "source": [
    "#### 2. start() - \n",
    "* It is an in-built method of the Thread class of the threading module. \n",
    "* It is used to start a thread's activity.\n",
    "* This method calls the run() method internally which then executes the target method.\n",
    "* This method must be called at most one time for one thread. If it is called more than once, it raises RunTime error."
   ]
  },
  {
   "cell_type": "code",
   "execution_count": 15,
   "id": "aca506b9-b126-4649-8763-d8136a6d6c02",
   "metadata": {},
   "outputs": [],
   "source": [
    "thred1 = [threading.Thread(target = test1, args = (i,)) for i in [1,2,3,4,5]]"
   ]
  },
  {
   "cell_type": "code",
   "execution_count": 16,
   "id": "8dde9f55-3430-428c-ae4b-a55fcabbe66b",
   "metadata": {},
   "outputs": [
    {
     "data": {
      "text/plain": [
       "[<Thread(Thread-9 (test1), initial)>,\n",
       " <Thread(Thread-10 (test1), initial)>,\n",
       " <Thread(Thread-11 (test1), initial)>,\n",
       " <Thread(Thread-12 (test1), initial)>,\n",
       " <Thread(Thread-13 (test1), initial)>]"
      ]
     },
     "execution_count": 16,
     "metadata": {},
     "output_type": "execute_result"
    }
   ],
   "source": [
    "thred1"
   ]
  },
  {
   "cell_type": "code",
   "execution_count": 17,
   "id": "630c2874-2611-436e-83c8-56407b45d11a",
   "metadata": {},
   "outputs": [
    {
     "name": "stdout",
     "output_type": "stream",
     "text": [
      "The square root is : 1.0\n",
      "The square root is : 1.4142135623730951\n",
      "The square root is : 1.7320508075688772\n",
      "The square root is : 2.0\n",
      "The square root is : 2.23606797749979\n"
     ]
    }
   ],
   "source": [
    "for t in thred1:\n",
    "    t.start()"
   ]
  },
  {
   "cell_type": "code",
   "execution_count": 18,
   "id": "050a70b2-d685-48d7-97c2-ca6f2c48688d",
   "metadata": {},
   "outputs": [
    {
     "ename": "RuntimeError",
     "evalue": "threads can only be started once",
     "output_type": "error",
     "traceback": [
      "\u001b[0;31m---------------------------------------------------------------------------\u001b[0m",
      "\u001b[0;31mRuntimeError\u001b[0m                              Traceback (most recent call last)",
      "Cell \u001b[0;32mIn[18], line 4\u001b[0m\n\u001b[1;32m      1\u001b[0m \u001b[38;5;66;03m### this will raise error\u001b[39;00m\n\u001b[1;32m      3\u001b[0m \u001b[38;5;28;01mfor\u001b[39;00m t \u001b[38;5;129;01min\u001b[39;00m thred1:\n\u001b[0;32m----> 4\u001b[0m     \u001b[43mt\u001b[49m\u001b[38;5;241;43m.\u001b[39;49m\u001b[43mstart\u001b[49m\u001b[43m(\u001b[49m\u001b[43m)\u001b[49m\n",
      "File \u001b[0;32m/opt/conda/lib/python3.10/threading.py:930\u001b[0m, in \u001b[0;36mThread.start\u001b[0;34m(self)\u001b[0m\n\u001b[1;32m    927\u001b[0m     \u001b[38;5;28;01mraise\u001b[39;00m \u001b[38;5;167;01mRuntimeError\u001b[39;00m(\u001b[38;5;124m\"\u001b[39m\u001b[38;5;124mthread.__init__() not called\u001b[39m\u001b[38;5;124m\"\u001b[39m)\n\u001b[1;32m    929\u001b[0m \u001b[38;5;28;01mif\u001b[39;00m \u001b[38;5;28mself\u001b[39m\u001b[38;5;241m.\u001b[39m_started\u001b[38;5;241m.\u001b[39mis_set():\n\u001b[0;32m--> 930\u001b[0m     \u001b[38;5;28;01mraise\u001b[39;00m \u001b[38;5;167;01mRuntimeError\u001b[39;00m(\u001b[38;5;124m\"\u001b[39m\u001b[38;5;124mthreads can only be started once\u001b[39m\u001b[38;5;124m\"\u001b[39m)\n\u001b[1;32m    932\u001b[0m \u001b[38;5;28;01mwith\u001b[39;00m _active_limbo_lock:\n\u001b[1;32m    933\u001b[0m     _limbo[\u001b[38;5;28mself\u001b[39m] \u001b[38;5;241m=\u001b[39m \u001b[38;5;28mself\u001b[39m\n",
      "\u001b[0;31mRuntimeError\u001b[0m: threads can only be started once"
     ]
    }
   ],
   "source": [
    "### this will raise error\n",
    "\n",
    "for t in thred1:\n",
    "    t.start()"
   ]
  },
  {
   "cell_type": "markdown",
   "id": "6dafd2e2-af7c-40b0-82a1-6aa0ea44b152",
   "metadata": {},
   "source": [
    "#### 3. join() - \n",
    "* It is an in-built method of the Thread class of the threading module. \n",
    "* Whenever this method is called for any Thread object, it block the calling thread till the time the thread whose join() method is called terminates, either normally or through an unhandled exception."
   ]
  },
  {
   "cell_type": "code",
   "execution_count": 21,
   "id": "8bd24e98-1b13-4112-9132-d8a35aba29e0",
   "metadata": {},
   "outputs": [],
   "source": [
    "import time"
   ]
  },
  {
   "cell_type": "code",
   "execution_count": 31,
   "id": "e54b8a7d-6885-40a3-b204-9dba8946165d",
   "metadata": {},
   "outputs": [],
   "source": [
    "def test2(x):\n",
    "    for i in range(1,x+1):\n",
    "        print(\"Square root of {} is {}\".format(i,i**(0.5)))\n",
    "        time.sleep(2)\n",
    "    \n",
    "    print(\"-\"*42)"
   ]
  },
  {
   "cell_type": "code",
   "execution_count": 32,
   "id": "b1e18de1-82cb-4064-8407-7e1b7e36f66b",
   "metadata": {},
   "outputs": [],
   "source": [
    "my_thread = [threading.Thread(target = test2, args = (i,)) for i in [2,4,6]]"
   ]
  },
  {
   "cell_type": "code",
   "execution_count": 33,
   "id": "dd75a090-74da-434e-8279-2978b57ab5c7",
   "metadata": {},
   "outputs": [
    {
     "name": "stdout",
     "output_type": "stream",
     "text": [
      "Square root of 1 is 1.0\n",
      "Square root of 2 is 1.4142135623730951\n",
      "------------------------------------------\n",
      "Square root of 1 is 1.0\n",
      "Square root of 2 is 1.4142135623730951\n",
      "Square root of 3 is 1.7320508075688772\n",
      "Square root of 4 is 2.0\n",
      "------------------------------------------\n",
      "Square root of 1 is 1.0\n",
      "Square root of 2 is 1.4142135623730951\n",
      "Square root of 3 is 1.7320508075688772\n",
      "Square root of 4 is 2.0\n",
      "Square root of 5 is 2.23606797749979\n",
      "Square root of 6 is 2.449489742783178\n",
      "------------------------------------------\n"
     ]
    }
   ],
   "source": [
    "for t in my_thread:\n",
    "    t.start()\n",
    "    t.join()"
   ]
  },
  {
   "cell_type": "markdown",
   "id": "9f349d06-de58-442d-82aa-210133cf8810",
   "metadata": {},
   "source": [
    "#### 4. isAlive() - \n",
    "* It is an in-built method of the Thread class of the threading module.\n",
    "* It is used to check whether that thread is alive or not, i.e., it is still running or not."
   ]
  },
  {
   "cell_type": "code",
   "execution_count": 34,
   "id": "0da1fd1a-e80e-4d80-a98e-f7d01c39d93e",
   "metadata": {},
   "outputs": [],
   "source": [
    "def my_fun():\n",
    "    print(\"Started\")\n",
    "    time.sleep(2)\n",
    "    print(\"Finished\")"
   ]
  },
  {
   "cell_type": "code",
   "execution_count": 37,
   "id": "8efff7bb-bc39-4d81-8236-61b1c55512ff",
   "metadata": {},
   "outputs": [],
   "source": [
    "my_thread1 = threading.Thread(target = my_fun)\n",
    "my_thread2 = threading.Thread(target = my_fun)"
   ]
  },
  {
   "cell_type": "code",
   "execution_count": 38,
   "id": "a794015f-755f-4409-a16a-0b1aae10a32c",
   "metadata": {},
   "outputs": [
    {
     "name": "stdout",
     "output_type": "stream",
     "text": [
      "Before start() - \n",
      "Is Thread1 alive : False\n",
      "Is Thread2 alive : False\n",
      "------------------------------------------\n",
      "Started\n",
      "Started\n",
      "Is Thread1 alive : True\n",
      "Is Thread2 alive : True\n",
      "Finished\n",
      "Finished\n"
     ]
    }
   ],
   "source": [
    "print(\"Before start() - \")\n",
    "print(\"Is Thread1 alive :\",my_thread1.is_alive())\n",
    "print(\"Is Thread2 alive :\",my_thread2.is_alive())\n",
    "print(\"-\"*42)\n",
    "\n",
    "my_thread1.start()\n",
    "my_thread2.start()\n",
    "\n",
    "print(\"Is Thread1 alive :\",my_thread1.is_alive())\n",
    "print(\"Is Thread2 alive :\",my_thread2.is_alive())"
   ]
  },
  {
   "cell_type": "markdown",
   "id": "8f40d191-c6a6-4498-a656-78412a80034c",
   "metadata": {},
   "source": [
    "isAlive() has been deprecated. So we use is_alive()."
   ]
  },
  {
   "cell_type": "markdown",
   "id": "bb1f9faa-b971-459c-be60-5fccc0b4888f",
   "metadata": {},
   "source": [
    "### ANSWER 4"
   ]
  },
  {
   "cell_type": "code",
   "execution_count": 39,
   "id": "acddb5e7-4290-4f6e-8b7e-957c57ed2577",
   "metadata": {},
   "outputs": [],
   "source": [
    "def square(x):\n",
    "    lst = [i**2 for i in range(1,x+1)]\n",
    "    print(lst)\n",
    "    \n",
    "def cube(x):\n",
    "    lst = [i**3 for i in range(1,x+1)]\n",
    "    print(lst)"
   ]
  },
  {
   "cell_type": "code",
   "execution_count": 43,
   "id": "e6c71258-4837-4b78-94ee-929b0cf0d866",
   "metadata": {},
   "outputs": [],
   "source": [
    "sq_thread = [threading.Thread(target = square, args = (i,)) for i in [1,2,3]]\n",
    "cub_thread = [threading.Thread(target = cube, args = (i,)) for i in [1,2,3]]"
   ]
  },
  {
   "cell_type": "code",
   "execution_count": 44,
   "id": "0ebb1866-18ac-45d7-b8d8-2b67cd19fa6b",
   "metadata": {},
   "outputs": [
    {
     "data": {
      "text/plain": [
       "[<Thread(Thread-38 (square), initial)>,\n",
       " <Thread(Thread-39 (square), initial)>,\n",
       " <Thread(Thread-40 (square), initial)>]"
      ]
     },
     "execution_count": 44,
     "metadata": {},
     "output_type": "execute_result"
    }
   ],
   "source": [
    "sq_thread"
   ]
  },
  {
   "cell_type": "code",
   "execution_count": 45,
   "id": "860fcc17-8818-4923-aada-1f84566b430b",
   "metadata": {},
   "outputs": [
    {
     "data": {
      "text/plain": [
       "[<Thread(Thread-41 (cube), initial)>,\n",
       " <Thread(Thread-42 (cube), initial)>,\n",
       " <Thread(Thread-43 (cube), initial)>]"
      ]
     },
     "execution_count": 45,
     "metadata": {},
     "output_type": "execute_result"
    }
   ],
   "source": [
    "cub_thread"
   ]
  },
  {
   "cell_type": "code",
   "execution_count": 46,
   "id": "90753a45-c8d0-4332-8543-3026a9e465f4",
   "metadata": {},
   "outputs": [
    {
     "name": "stdout",
     "output_type": "stream",
     "text": [
      "[1]\n",
      "[1, 4]\n",
      "[1, 4, 9]\n"
     ]
    }
   ],
   "source": [
    "for t in sq_thread:\n",
    "    t.start()"
   ]
  },
  {
   "cell_type": "code",
   "execution_count": 47,
   "id": "55428c21-a79a-44c6-8f69-a8b6ceef4203",
   "metadata": {},
   "outputs": [
    {
     "name": "stdout",
     "output_type": "stream",
     "text": [
      "[1]\n",
      "[1, 8]\n",
      "[1, 8, 27]\n"
     ]
    }
   ],
   "source": [
    "for t in cub_thread:\n",
    "    t.start()"
   ]
  },
  {
   "cell_type": "markdown",
   "id": "0aff513e-7e52-421c-8db7-7bee7d489bf6",
   "metadata": {},
   "source": [
    "### ANSWER 5"
   ]
  },
  {
   "cell_type": "markdown",
   "id": "9b68074c-230e-4eda-a7cf-7fa8fccf5010",
   "metadata": {},
   "source": [
    "Advantages - \n",
    "1. Concurrent Execution - \n",
    "    * Multithreading allows multiple parts of a program to be executed concurrently. This can lead to improved performance.\n",
    "2. Efficient use of System Resources - \n",
    "    * Threads within the same process share the same data space, which means they can share global variables and code. This can lead to more efficient use of system resources compared to processes, which require their own separate memory space.\n",
    "3. Responsive User Interfaces -\n",
    "    * Multithreading can be used to create more responsive user interfaces by allowing long-running tasks to be performed in the background."
   ]
  },
  {
   "cell_type": "markdown",
   "id": "b6a9dd83-b40f-4900-86af-fddd1207d54c",
   "metadata": {},
   "source": [
    "Disadvantages - \n",
    "1. Complexity - \n",
    "    * Multithreaded programs can be more complex and harder to debug due to issues such as race conditions.\n",
    "2. Global Interpreter Lock (GIL) - \n",
    "    * The GIL mechanism synchronizes access to Python objects, preventing multiple threads from executing Python bytecodes at once. This can limit the performance benefits of multithreading for CPU-bound tasks. \n",
    "3. Overhead - \n",
    "    * There is an overhead associated with managing multiple threads, which can sometimes make multithreading less efficient than single-threading for certain types of tasks."
   ]
  },
  {
   "cell_type": "markdown",
   "id": "13afc948-df07-4ef5-97f0-7be656bf9142",
   "metadata": {},
   "source": [
    "### ANSWER 6"
   ]
  },
  {
   "cell_type": "markdown",
   "id": "4af8f9e0-d4ac-45b5-ad13-7c6d71872d8a",
   "metadata": {},
   "source": [
    "Race Conditions - \n",
    "* A race condition occurs when two or more threads try to access and manipulate the same data simultaneously. The final value of the shared variable depends on which thread completes its update last. This can lead to unpredictable and undesirable outcomes."
   ]
  },
  {
   "cell_type": "code",
   "execution_count": 52,
   "id": "5d96d0bd-1900-48df-b69b-abcbed3e60b3",
   "metadata": {},
   "outputs": [
    {
     "name": "stdout",
     "output_type": "stream",
     "text": [
      "counter=10\n",
      "counter=20\n",
      "The final counter is 20\n"
     ]
    }
   ],
   "source": [
    "counter = 0\n",
    "\n",
    "def increase(by):\n",
    "    global counter\n",
    "    local_counter = counter\n",
    "    local_counter += by\n",
    "    time.sleep(1)\n",
    "    counter = local_counter\n",
    "    print(f'counter={counter}')\n",
    "\n",
    "# create threads\n",
    "t1 = threading.Thread(target=increase, args=(10,))\n",
    "t2 = threading.Thread(target=increase, args=(20,))\n",
    "\n",
    "# start the threads\n",
    "t1.start()\n",
    "t2.start()\n",
    "\n",
    "# wait for the threads to complete\n",
    "t1.join()\n",
    "t2.join()\n",
    "\n",
    "print(f'The final counter is {counter}')\n"
   ]
  },
  {
   "cell_type": "markdown",
   "id": "28556a4f-f61a-4ac0-b7df-3dd6d7229d93",
   "metadata": {},
   "source": [
    "Deadlocks - \n",
    "* It is a concurrency failure mode where a thread or threads wait for a condition that never occur. Deadlock threads are unable to progress and the program is stuck and must be terminated forcefully.\n",
    "* It can occur for various reasons - \n",
    "    * A thread that waits on itself (e.g. attempts to acquire the same mutex lock twice)\n",
    "    * Threads that wait on each other (e.g., A waits on B, B waits on A).\n",
    "    * Thread that fails to release a resource (e.g. mutex lock)\n",
    "    * Threads that acquire mutex locks in different orders (e.g., fail to perform lock ordering)"
   ]
  },
  {
   "cell_type": "code",
   "execution_count": null,
   "id": "da01521f-409e-49e5-a1c7-c3a09b04acef",
   "metadata": {},
   "outputs": [],
   "source": []
  }
 ],
 "metadata": {
  "kernelspec": {
   "display_name": "Python 3 (ipykernel)",
   "language": "python",
   "name": "python3"
  },
  "language_info": {
   "codemirror_mode": {
    "name": "ipython",
    "version": 3
   },
   "file_extension": ".py",
   "mimetype": "text/x-python",
   "name": "python",
   "nbconvert_exporter": "python",
   "pygments_lexer": "ipython3",
   "version": "3.10.8"
  }
 },
 "nbformat": 4,
 "nbformat_minor": 5
}
