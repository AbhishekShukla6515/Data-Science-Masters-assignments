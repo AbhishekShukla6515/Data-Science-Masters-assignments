{
 "cells": [
  {
   "cell_type": "markdown",
   "id": "44ac4f96-ffd3-4512-9b9d-6e1cacbd6f24",
   "metadata": {},
   "source": [
    "# Exception Handling - 2"
   ]
  },
  {
   "cell_type": "markdown",
   "id": "f8eedd07-9671-4819-b731-6cee1e0fd6ae",
   "metadata": {},
   "source": [
    "### ANSWER 1"
   ]
  },
  {
   "cell_type": "markdown",
   "id": "144aab53-e665-4fe7-85af-82d6d18cfd8d",
   "metadata": {},
   "source": [
    "For creating a Custom Exception, we use the Exception class due to following reasons -\n",
    "* By inheriting from Exception class, our custom exceptions will behave like standard Python exceptions, which makes our code more consistent with the rest of the Python ecosystem.\n",
    "* If our custom exception inherits from Exception class, then it can caught in a try-except block. If we didn't inherit from the Exception class or one of its subclasses, then our custom exception won't be caught.\n",
    "*  The Exception class provides several useful features that our custom exception will inherit."
   ]
  },
  {
   "cell_type": "markdown",
   "id": "56ceddfc-0d56-4a64-aa93-09365f01c9cd",
   "metadata": {},
   "source": [
    "### ANSWER 2"
   ]
  },
  {
   "cell_type": "code",
   "execution_count": 1,
   "id": "278ee311-6ce0-4294-89cf-32ee6ba232a2",
   "metadata": {},
   "outputs": [],
   "source": [
    "import inspect"
   ]
  },
  {
   "cell_type": "code",
   "execution_count": 3,
   "id": "7731dd95-107c-46cd-a863-b1fc183b4b71",
   "metadata": {},
   "outputs": [],
   "source": [
    "import pprint"
   ]
  },
  {
   "cell_type": "code",
   "execution_count": 4,
   "id": "37179f21-c6a4-427d-9375-edb2d5674535",
   "metadata": {},
   "outputs": [
    {
     "name": "stdout",
     "output_type": "stream",
     "text": [
      "BaseException\n",
      "--Exception\n",
      "----TypeError\n",
      "------FloatOperation\n",
      "------MultipartConversionError\n",
      "----StopAsyncIteration\n",
      "----StopIteration\n",
      "----ImportError\n",
      "------ModuleNotFoundError\n",
      "------ZipImportError\n",
      "----OSError\n",
      "------ConnectionError\n",
      "--------BrokenPipeError\n",
      "--------ConnectionAbortedError\n",
      "--------ConnectionRefusedError\n",
      "--------ConnectionResetError\n",
      "----------RemoteDisconnected\n",
      "------BlockingIOError\n",
      "------ChildProcessError\n",
      "------FileExistsError\n",
      "------FileNotFoundError\n",
      "------IsADirectoryError\n",
      "------NotADirectoryError\n",
      "------InterruptedError\n",
      "--------InterruptedSystemCall\n",
      "------PermissionError\n",
      "------ProcessLookupError\n",
      "------TimeoutError\n",
      "------UnsupportedOperation\n",
      "------itimer_error\n",
      "------herror\n",
      "------gaierror\n",
      "------SSLError\n",
      "--------SSLCertVerificationError\n",
      "--------SSLZeroReturnError\n",
      "--------SSLWantWriteError\n",
      "--------SSLWantReadError\n",
      "--------SSLSyscallError\n",
      "--------SSLEOFError\n",
      "------Error\n",
      "--------SameFileError\n",
      "------SpecialFileError\n",
      "------ExecError\n",
      "------ReadError\n",
      "------URLError\n",
      "--------HTTPError\n",
      "--------ContentTooShortError\n",
      "------BadGzipFile\n",
      "----EOFError\n",
      "------IncompleteReadError\n",
      "----RuntimeError\n",
      "------RecursionError\n",
      "------NotImplementedError\n",
      "--------ZMQVersionError\n",
      "--------StdinNotImplementedError\n",
      "------_DeadlockError\n",
      "------BrokenBarrierError\n",
      "------BrokenExecutor\n",
      "--------BrokenThreadPool\n",
      "------SendfileNotAvailableError\n",
      "------ExtractionError\n",
      "------VariableError\n",
      "----NameError\n",
      "------UnboundLocalError\n",
      "----AttributeError\n",
      "------FrozenInstanceError\n",
      "----SyntaxError\n",
      "------IndentationError\n",
      "--------TabError\n",
      "----LookupError\n",
      "------IndexError\n",
      "------KeyError\n",
      "--------NoSuchKernel\n",
      "--------UnknownBackend\n",
      "------CodecRegistryError\n",
      "----ValueError\n",
      "------UnicodeError\n",
      "--------UnicodeEncodeError\n",
      "--------UnicodeDecodeError\n",
      "--------UnicodeTranslateError\n",
      "------UnsupportedOperation\n",
      "------JSONDecodeError\n",
      "------SSLCertVerificationError\n",
      "------Error\n",
      "------UnsupportedDigestmodError\n",
      "------IllegalMonthError\n",
      "------IllegalWeekdayError\n",
      "------ParserError\n",
      "------ClassNotFound\n",
      "------ClipboardEmpty\n",
      "------MessageDefect\n",
      "--------NoBoundaryInMultipartDefect\n",
      "--------StartBoundaryNotFoundDefect\n",
      "--------CloseBoundaryNotFoundDefect\n",
      "--------FirstHeaderLineIsContinuationDefect\n",
      "--------MisplacedEnvelopeHeaderDefect\n",
      "--------MissingHeaderBodySeparatorDefect\n",
      "--------MultipartInvariantViolationDefect\n",
      "--------InvalidMultipartContentTransferEncodingDefect\n",
      "--------UndecodableBytesDefect\n",
      "--------InvalidBase64PaddingDefect\n",
      "--------InvalidBase64CharactersDefect\n",
      "--------InvalidBase64LengthDefect\n",
      "--------HeaderDefect\n",
      "----------InvalidHeaderDefect\n",
      "----------HeaderMissingRequiredValue\n",
      "----------NonPrintableDefect\n",
      "----------ObsoleteHeaderDefect\n",
      "----------NonASCIILocalPartDefect\n",
      "----------InvalidDateDefect\n",
      "------MacroToEdit\n",
      "------InvalidFileException\n",
      "------UnequalIterablesError\n",
      "------InvalidVersion\n",
      "------_InvalidELFFileHeader\n",
      "------InvalidWheelFilename\n",
      "------InvalidSdistFilename\n",
      "------InvalidSpecifier\n",
      "------InvalidMarker\n",
      "------UndefinedComparison\n",
      "------UndefinedEnvironmentName\n",
      "------InvalidRequirement\n",
      "--------RequirementParseError\n",
      "------InvalidVersion\n",
      "----AssertionError\n",
      "----ArithmeticError\n",
      "------FloatingPointError\n",
      "------OverflowError\n",
      "------ZeroDivisionError\n",
      "--------DivisionByZero\n",
      "--------DivisionUndefined\n",
      "------DecimalException\n",
      "--------Clamped\n",
      "--------Rounded\n",
      "----------Underflow\n",
      "----------Overflow\n",
      "--------Inexact\n",
      "----------Underflow\n",
      "----------Overflow\n",
      "--------Subnormal\n",
      "----------Underflow\n",
      "--------DivisionByZero\n",
      "--------FloatOperation\n",
      "--------InvalidOperation\n",
      "----------ConversionSyntax\n",
      "----------DivisionImpossible\n",
      "----------DivisionUndefined\n",
      "----------InvalidContext\n",
      "----SystemError\n",
      "------CodecRegistryError\n",
      "----ReferenceError\n",
      "----MemoryError\n",
      "----BufferError\n",
      "----Warning\n",
      "------UserWarning\n",
      "--------GetPassWarning\n",
      "--------FormatterWarning\n",
      "------EncodingWarning\n",
      "------DeprecationWarning\n",
      "--------ProvisionalWarning\n",
      "------PendingDeprecationWarning\n",
      "------SyntaxWarning\n",
      "------RuntimeWarning\n",
      "--------ProactorSelectorThreadWarning\n",
      "--------UnknownTimezoneWarning\n",
      "--------PEP440Warning\n",
      "------FutureWarning\n",
      "--------ProvisionalCompleterWarning\n",
      "------ImportWarning\n",
      "------UnicodeWarning\n",
      "------BytesWarning\n",
      "------ResourceWarning\n",
      "------DeprecatedTzFormatWarning\n",
      "------PkgResourcesDeprecationWarning\n",
      "----_OptionError\n",
      "----_Error\n",
      "----error\n",
      "----Verbose\n",
      "----Error\n",
      "----SubprocessError\n",
      "------CalledProcessError\n",
      "------TimeoutExpired\n",
      "----TokenError\n",
      "----StopTokenizing\n",
      "----ClassFoundException\n",
      "----EndOfBlock\n",
      "----TraitError\n",
      "----Error\n",
      "----Error\n",
      "------CancelledError\n",
      "------TimeoutError\n",
      "------InvalidStateError\n",
      "----_GiveupOnSendfile\n",
      "----error\n",
      "----Incomplete\n",
      "----TimeoutError\n",
      "----InvalidStateError\n",
      "----LimitOverrunError\n",
      "----QueueEmpty\n",
      "----QueueFull\n",
      "----Empty\n",
      "----Full\n",
      "----ArgumentError\n",
      "----ZMQBaseError\n",
      "------ZMQError\n",
      "--------ContextTerminated\n",
      "--------Again\n",
      "--------InterruptedSystemCall\n",
      "------ZMQBindError\n",
      "------NotDone\n",
      "----PickleError\n",
      "------PicklingError\n",
      "------UnpicklingError\n",
      "----_Stop\n",
      "----ArgumentError\n",
      "----ArgumentTypeError\n",
      "----ConfigError\n",
      "------ConfigLoaderError\n",
      "--------ArgumentError\n",
      "------ConfigFileNotFound\n",
      "----ConfigurableError\n",
      "------MultipleInstanceError\n",
      "----ApplicationError\n",
      "----error\n",
      "----TimeoutError\n",
      "----error\n",
      "----ReturnValueIgnoredError\n",
      "----KeyReuseError\n",
      "----UnknownKeyError\n",
      "----LeakedCallbackError\n",
      "----BadYieldError\n",
      "----ReturnValueIgnoredError\n",
      "----Return\n",
      "----InvalidPortNumber\n",
      "----error\n",
      "----LZMAError\n",
      "----RegistryError\n",
      "----_GiveupOnFastCopy\n",
      "----Error\n",
      "------NoSectionError\n",
      "------DuplicateSectionError\n",
      "------DuplicateOptionError\n",
      "------NoOptionError\n",
      "------InterpolationError\n",
      "--------InterpolationMissingOptionError\n",
      "--------InterpolationSyntaxError\n",
      "--------InterpolationDepthError\n",
      "------ParsingError\n",
      "--------MissingSectionHeaderError\n",
      "----NoIPAddresses\n",
      "----BadZipFile\n",
      "----LargeZipFile\n",
      "----BadEntryPoint\n",
      "----NoSuchEntryPoint\n",
      "----DuplicateKernelError\n",
      "----ErrorDuringImport\n",
      "----NotOneValueFound\n",
      "----CannotEval\n",
      "----OptionError\n",
      "----BdbQuit\n",
      "----Restart\n",
      "----ExceptionPexpect\n",
      "------EOF\n",
      "------TIMEOUT\n",
      "----PtyProcessError\n",
      "----FindCmdError\n",
      "----HomeDirError\n",
      "----ProfileDirError\n",
      "----IPythonCoreError\n",
      "------TryNext\n",
      "------UsageError\n",
      "------StdinNotImplementedError\n",
      "----InputRejected\n",
      "----GetoptError\n",
      "----ErrorToken\n",
      "----PrefilterError\n",
      "----AliasError\n",
      "------InvalidAliasError\n",
      "----Error\n",
      "------InterfaceError\n",
      "------DatabaseError\n",
      "--------InternalError\n",
      "--------OperationalError\n",
      "--------ProgrammingError\n",
      "--------IntegrityError\n",
      "--------DataError\n",
      "--------NotSupportedError\n",
      "----Warning\n",
      "----SpaceInInput\n",
      "----DOMException\n",
      "------IndexSizeErr\n",
      "------DomstringSizeErr\n",
      "------HierarchyRequestErr\n",
      "------WrongDocumentErr\n",
      "------InvalidCharacterErr\n",
      "------NoDataAllowedErr\n",
      "------NoModificationAllowedErr\n",
      "------NotFoundErr\n",
      "------NotSupportedErr\n",
      "------InuseAttributeErr\n",
      "------InvalidStateErr\n",
      "------SyntaxErr\n",
      "------InvalidModificationErr\n",
      "------NamespaceErr\n",
      "------InvalidAccessErr\n",
      "------ValidationErr\n",
      "----ValidationError\n",
      "----EditReadOnlyBuffer\n",
      "----_Retry\n",
      "----InvalidLayoutError\n",
      "----HeightIsUnknownError\n",
      "----ParserSyntaxError\n",
      "----InternalParseError\n",
      "----_PositionUpdatingFinished\n",
      "----SimpleGetItemNotFound\n",
      "----UncaughtAttributeError\n",
      "----HasNoContext\n",
      "----ParamIssue\n",
      "----_JediError\n",
      "------InternalError\n",
      "------WrongVersion\n",
      "------RefactoringError\n",
      "----OnErrorLeaf\n",
      "----InvalidPythonEnvironment\n",
      "----MessageError\n",
      "------MessageParseError\n",
      "--------HeaderParseError\n",
      "--------BoundaryError\n",
      "------MultipartConversionError\n",
      "------CharsetError\n",
      "----Error\n",
      "----HTTPException\n",
      "------NotConnected\n",
      "------InvalidURL\n",
      "------UnknownProtocol\n",
      "------UnknownTransferEncoding\n",
      "------UnimplementedFileMode\n",
      "------IncompleteRead\n",
      "------ImproperConnectionState\n",
      "--------CannotSendRequest\n",
      "--------CannotSendHeader\n",
      "--------ResponseNotReady\n",
      "------BadStatusLine\n",
      "--------RemoteDisconnected\n",
      "------LineTooLong\n",
      "----InteractivelyDefined\n",
      "----KillEmbedded\n",
      "----Error\n",
      "------NoSuchProcess\n",
      "--------ZombieProcess\n",
      "------AccessDenied\n",
      "------TimeoutExpired\n",
      "----_Ipv6UnsupportedError\n",
      "----QueueEmpty\n",
      "----QueueFull\n",
      "----DebuggerInitializationError\n",
      "----ExpatError\n",
      "----Error\n",
      "------ProtocolError\n",
      "------ResponseError\n",
      "------Fault\n",
      "----ParseBaseException\n",
      "------ParseException\n",
      "------ParseFatalException\n",
      "--------ParseSyntaxException\n",
      "----RecursiveGrammarException\n",
      "----ResolutionError\n",
      "------VersionConflict\n",
      "--------ContextualVersionConflict\n",
      "------DistributionNotFound\n",
      "------UnknownExtra\n",
      "----_Error\n",
      "----UnableToResolveVariableException\n",
      "----InvalidTypeInArgsException\n",
      "--GeneratorExit\n",
      "--SystemExit\n",
      "--KeyboardInterrupt\n",
      "--CancelledError\n",
      "--AbortThread\n"
     ]
    }
   ],
   "source": [
    "def class_hierarchy(cls, indent=0):\n",
    "    print('-' * indent + cls.__name__)\n",
    "    for subclass in cls.__subclasses__():\n",
    "        class_hierarchy(subclass, indent + 2)\n",
    "\n",
    "class_hierarchy(BaseException)"
   ]
  },
  {
   "cell_type": "markdown",
   "id": "a9f5c9ff-c201-43fe-bc7d-d24da5f4660c",
   "metadata": {},
   "source": [
    "### ANSWER 3"
   ]
  },
  {
   "cell_type": "markdown",
   "id": "8cb1c43f-fab9-43c9-a7ed-938247a7f180",
   "metadata": {},
   "source": [
    "The ArithmaticError class contains the following arithmatic errors -  \n",
    "* OverflowError\n",
    "* ZeroDivisionError\n",
    "* FloatingPointError"
   ]
  },
  {
   "cell_type": "markdown",
   "id": "0cde8812-fcaa-4b56-aba2-b73034d7dfe8",
   "metadata": {},
   "source": [
    "OverflowError\n",
    "* It is raised when the result of an arithmetic operation is too large to be expressed by the numeric type."
   ]
  },
  {
   "cell_type": "code",
   "execution_count": 5,
   "id": "fe0ef740-a2d5-4df3-9316-a36b5019feb6",
   "metadata": {},
   "outputs": [],
   "source": [
    "import math"
   ]
  },
  {
   "cell_type": "code",
   "execution_count": 6,
   "id": "c43d2749-d288-4865-be95-3e3060d08884",
   "metadata": {},
   "outputs": [
    {
     "name": "stdout",
     "output_type": "stream",
     "text": [
      "math range error\n"
     ]
    }
   ],
   "source": [
    "try:\n",
    "    print(math.exp(1000))\n",
    "except OverflowError as e:\n",
    "    print(e)"
   ]
  },
  {
   "cell_type": "markdown",
   "id": "f10e7954-ba1e-4252-a537-449e83133f1d",
   "metadata": {},
   "source": [
    "ZeroDivisionError\n",
    "* It is raised when attempting to divide a number by zero, which results in an infinite number in mathematics."
   ]
  },
  {
   "cell_type": "code",
   "execution_count": 7,
   "id": "49a81faa-646f-43b4-ab3e-558fdf5a788b",
   "metadata": {},
   "outputs": [
    {
     "name": "stdout",
     "output_type": "stream",
     "text": [
      "division by zero\n"
     ]
    }
   ],
   "source": [
    "try:\n",
    "    a = 10/0\n",
    "except ZeroDivisionError as e:\n",
    "    print(e)"
   ]
  },
  {
   "cell_type": "markdown",
   "id": "0c1d316e-b3ba-4a8f-9f1b-7ff143a9dde1",
   "metadata": {},
   "source": [
    "### ANSWER 4"
   ]
  },
  {
   "cell_type": "markdown",
   "id": "6db3cfd5-e579-4280-98ca-35e567ef3b10",
   "metadata": {},
   "source": [
    "The LookupError class is a built-in exception class that serves as a base class for the exceptions that get raised when a key or index used on a mapping or sequence is invalid.\n",
    "It has two direct subclasses - \n",
    "* IndexError\n",
    "* KeyError"
   ]
  },
  {
   "cell_type": "markdown",
   "id": "1cc2c4c3-f3fd-4a5d-a46a-9aad4674c078",
   "metadata": {},
   "source": [
    "IndexError\n",
    "* It is raised when a sequence subscript (index) is out of range. It happens when we try to access an element of a list using an index that exceeds the number of elements in the list."
   ]
  },
  {
   "cell_type": "code",
   "execution_count": 8,
   "id": "632b5883-61e5-4fff-995d-a6f4e89305d4",
   "metadata": {},
   "outputs": [
    {
     "name": "stdout",
     "output_type": "stream",
     "text": [
      "list index out of range\n"
     ]
    }
   ],
   "source": [
    "try:\n",
    "    lst = [1,2,3]\n",
    "    print(lst[10])\n",
    "except IndexError as e:\n",
    "    print(e)"
   ]
  },
  {
   "cell_type": "markdown",
   "id": "bab0bbb2-a554-40ce-b73c-80a6a8b49ebe",
   "metadata": {},
   "source": [
    "KeyError\n",
    "* It is raised when a dictionary key is not found. If we try to access a value in a dictionary using a key that doesn't exist in that dictionary, a KeyError will be raised."
   ]
  },
  {
   "cell_type": "code",
   "execution_count": 9,
   "id": "137c3818-dc78-413c-8515-e6bfe0149bbf",
   "metadata": {},
   "outputs": [
    {
     "name": "stdout",
     "output_type": "stream",
     "text": [
      "'roll'\n"
     ]
    }
   ],
   "source": [
    "try:\n",
    "    dct = {\"name\" : \"Abhishek\",\"age\" : 21}\n",
    "    print(dct[\"roll\"])\n",
    "except KeyError as e:\n",
    "    print(e)"
   ]
  },
  {
   "cell_type": "markdown",
   "id": "d3e7fc0d-03cd-4e95-a5c5-cb714ff036aa",
   "metadata": {},
   "source": [
    "### ANSWER 5"
   ]
  },
  {
   "cell_type": "markdown",
   "id": "87f2eb22-c707-4e28-af19-7922860b961b",
   "metadata": {},
   "source": [
    "ImportError\n",
    "* This is a built-in exception which is raised when the import statement has trouble successfully importing the specified module.\n",
    "* This could be because the module doesn’t exist, or the module is not in a location where Python can find it, or there’s an error in the module we are trying to import."
   ]
  },
  {
   "cell_type": "code",
   "execution_count": 10,
   "id": "bdbd5e80-273c-401a-9dd9-dbb1d3f2e09f",
   "metadata": {},
   "outputs": [
    {
     "name": "stdout",
     "output_type": "stream",
     "text": [
      "No module named 'my_module'\n"
     ]
    }
   ],
   "source": [
    "try:\n",
    "    import my_module\n",
    "except ImportError as e:\n",
    "    print(e)"
   ]
  },
  {
   "cell_type": "markdown",
   "id": "1333eaf4-3013-471e-9df7-b5c5da197804",
   "metadata": {},
   "source": [
    "ModuleNotFoundError\n",
    "* This is a subclass of ImportError. It’s raised when the module you’re trying to import doesn’t exist.\n",
    "* It is a more specific version of ImportError that applies when a module could not be located."
   ]
  },
  {
   "cell_type": "code",
   "execution_count": 12,
   "id": "9c8e475e-10cd-49d4-bd82-de1bda1a224f",
   "metadata": {},
   "outputs": [
    {
     "name": "stdout",
     "output_type": "stream",
     "text": [
      "No module named 'non_existent_module'\n"
     ]
    }
   ],
   "source": [
    "try:\n",
    "    import non_existent_module\n",
    "except ModuleNotFoundError as e:\n",
    "    print(e)"
   ]
  },
  {
   "cell_type": "markdown",
   "id": "d4bbaa38-d39e-48fa-b089-d9798ee06797",
   "metadata": {},
   "source": [
    "### ANSWER 6"
   ]
  },
  {
   "cell_type": "markdown",
   "id": "7621327e-508e-4017-81dc-4ac3733856c8",
   "metadata": {},
   "source": [
    "Some of the best practices for exception handling are - \n",
    "* Using specific exception instead of generic exception\n",
    "* Using descriptive error messages\n",
    "* Logging error information\n",
    "* Avoiding multiple exception handling\n",
    "* Preparing a proper documentation \n",
    "* Cleaning up all resources"
   ]
  },
  {
   "cell_type": "code",
   "execution_count": null,
   "id": "c62c5fd2-be35-46ad-8baa-09a25e2bab2c",
   "metadata": {},
   "outputs": [],
   "source": []
  }
 ],
 "metadata": {
  "kernelspec": {
   "display_name": "Python 3 (ipykernel)",
   "language": "python",
   "name": "python3"
  },
  "language_info": {
   "codemirror_mode": {
    "name": "ipython",
    "version": 3
   },
   "file_extension": ".py",
   "mimetype": "text/x-python",
   "name": "python",
   "nbconvert_exporter": "python",
   "pygments_lexer": "ipython3",
   "version": "3.10.8"
  }
 },
 "nbformat": 4,
 "nbformat_minor": 5
}
