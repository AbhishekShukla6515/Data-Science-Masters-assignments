{
 "cells": [
  {
   "cell_type": "markdown",
   "id": "111fa0b4-0ba8-4ef0-b7c5-67c442e44e68",
   "metadata": {},
   "source": [
    "# Assignment - 29 Jan"
   ]
  },
  {
   "cell_type": "markdown",
   "id": "19ccbfb2-8cff-464e-99a7-e71bc939bdd8",
   "metadata": {},
   "source": [
    "### Answer 1\n",
    "\n",
    "Python programming language was developed by Guido van Rossum."
   ]
  },
  {
   "cell_type": "markdown",
   "id": "e8712449-8410-4da4-8735-cdeb1791daa8",
   "metadata": {},
   "source": [
    "### Answer 2\n",
    "\n",
    "Python is a high-level programming language and it supports object-oriented programming. It is a dynamically typed language."
   ]
  },
  {
   "cell_type": "markdown",
   "id": "5fdcb804-0375-4fc0-98f5-36373b9a750d",
   "metadata": {},
   "source": [
    "### Answer 3\n",
    "\n",
    "Yes, Python is a case-sensitive language. Therefore, it is case-sensitive while dealing with identifiers."
   ]
  },
  {
   "cell_type": "markdown",
   "id": "340bcff2-db5d-483d-bc3b-b2dfd88fe2c0",
   "metadata": {},
   "source": [
    "### Answer 4\n",
    "\n",
    "The correct extension of Python file is \".py\". For Jupyter notebook, it is \".ipynb\"."
   ]
  },
  {
   "cell_type": "markdown",
   "id": "b49e56c1-5915-4bd9-8963-9204604704c5",
   "metadata": {},
   "source": [
    "### Answer 5\n",
    "\n",
    "Python code is interpreted. "
   ]
  },
  {
   "cell_type": "markdown",
   "id": "b20bbfcf-594c-45f5-8611-5bf7f74c3ebb",
   "metadata": {},
   "source": [
    "### Answer 6\n",
    "\n",
    "Indentation is used to define a block of code in Python."
   ]
  },
  {
   "cell_type": "markdown",
   "id": "df5ed4f3-74c0-4d9a-aa29-f9e8765ecb31",
   "metadata": {},
   "source": [
    "### Answer 7\n",
    "\n",
    "\"#\" is used to give single-line comments in Python."
   ]
  },
  {
   "cell_type": "markdown",
   "id": "749bf92f-1eef-43bb-8335-ac7946d1c50f",
   "metadata": {},
   "source": [
    "### Answer 8\n",
    "\n",
    "\"sys.version\" can help us to find the version of Python we are currently working on."
   ]
  },
  {
   "cell_type": "markdown",
   "id": "64fec86b-bbcd-4663-b230-032f8aeaaece",
   "metadata": {},
   "source": [
    "### Answer 9\n",
    "\n",
    "lambda"
   ]
  },
  {
   "cell_type": "markdown",
   "id": "c4faa471-dd7b-40e2-9647-6a0ef810e03d",
   "metadata": {},
   "source": [
    "### Answer 10\n",
    "\n",
    "Preferred Installer Program"
   ]
  },
  {
   "cell_type": "markdown",
   "id": "57b4c3d1-7c82-4b8a-a523-3451c68b5ef4",
   "metadata": {},
   "source": [
    "### Answer 11\n",
    "\n",
    "int(), str(), float(), len(), list(), id(), etc."
   ]
  },
  {
   "cell_type": "markdown",
   "id": "143d484a-0810-4ef9-8569-740016e6f85e",
   "metadata": {},
   "source": [
    "### Answer 12\n",
    "\n",
    "79 characters"
   ]
  },
  {
   "cell_type": "markdown",
   "id": "b40f27a3-93a2-44ce-b2e0-c4020ceccc3e",
   "metadata": {},
   "source": [
    "### Answer 13\n",
    "\n",
    "* Quality of software\n",
    "* Productivity of developers\n",
    "* Portability\n",
    "* Supporting libraries\n",
    "* Can be used in fields like data science, automation, robotics, web scrapping and so on."
   ]
  },
  {
   "cell_type": "markdown",
   "id": "9b2ab60f-f9a2-444e-8196-941da1d86297",
   "metadata": {},
   "source": [
    "### Answer 14 \n",
    "\n",
    "There is a private heap which contains all Python objects and data containers. The management of this private heap is done internally by the Python memory manager."
   ]
  },
  {
   "cell_type": "markdown",
   "id": "3aea8398-8053-4139-992d-745159063383",
   "metadata": {},
   "source": [
    "### Answer 15\n",
    "\n",
    "* Install Python from webiste - \"https://www.python.org/downloads/\"\n",
    "* Look for the location where Python has been installed in the PC.\n",
    "* Go to Advanced System Settings and add new variable and name it as PYTHON_NAME and paste the path.\n",
    "* Then look for path variable, select its value and select edit.\n",
    "* Add a semicolon towards the end of the value if its not present and then type %PYTHON_HOME%"
   ]
  },
  {
   "cell_type": "markdown",
   "id": "d88da865-9f25-47f7-b67a-736ddcaf6fe5",
   "metadata": {},
   "source": [
    "### Answer 16\n",
    "\n",
    "Indentation is necessary in Python if we want to define a block of code."
   ]
  },
  {
   "cell_type": "code",
   "execution_count": null,
   "id": "38cb5e1e-a2e9-4338-9bca-31459079c2e8",
   "metadata": {},
   "outputs": [],
   "source": []
  },
  {
   "cell_type": "code",
   "execution_count": null,
   "id": "f5156fe4-1cbd-465f-8f47-74c35b7843e7",
   "metadata": {},
   "outputs": [],
   "source": []
  },
  {
   "cell_type": "code",
   "execution_count": null,
   "id": "1c42688a-7842-4bcb-b46d-2a81722123ec",
   "metadata": {},
   "outputs": [],
   "source": []
  },
  {
   "cell_type": "code",
   "execution_count": null,
   "id": "5c6e3488-6be7-46c9-bcad-347d432cc2f0",
   "metadata": {},
   "outputs": [],
   "source": []
  },
  {
   "cell_type": "code",
   "execution_count": null,
   "id": "7c30c62b-0a1f-4d34-9347-4ac8fe88c105",
   "metadata": {},
   "outputs": [],
   "source": []
  },
  {
   "cell_type": "code",
   "execution_count": null,
   "id": "2e44e6c6-4640-4269-baa6-7402ff0a2699",
   "metadata": {},
   "outputs": [],
   "source": []
  },
  {
   "cell_type": "code",
   "execution_count": null,
   "id": "5e9a202f-6775-45a7-9223-0e2dbd076bec",
   "metadata": {},
   "outputs": [],
   "source": []
  }
 ],
 "metadata": {
  "kernelspec": {
   "display_name": "Python 3 (ipykernel)",
   "language": "python",
   "name": "python3"
  },
  "language_info": {
   "codemirror_mode": {
    "name": "ipython",
    "version": 3
   },
   "file_extension": ".py",
   "mimetype": "text/x-python",
   "name": "python",
   "nbconvert_exporter": "python",
   "pygments_lexer": "ipython3",
   "version": "3.10.8"
  }
 },
 "nbformat": 4,
 "nbformat_minor": 5
}
