{
 "cells": [
  {
   "cell_type": "markdown",
   "id": "6bf54d45-91a9-47c3-86e6-0aa751b69184",
   "metadata": {},
   "source": [
    "# Assignment"
   ]
  },
  {
   "cell_type": "markdown",
   "id": "7b756480-6315-4082-b38f-8c8930fcc5dd",
   "metadata": {},
   "source": [
    "## Answer 1"
   ]
  },
  {
   "cell_type": "raw",
   "id": "1f70b777-9e23-483c-b303-79d38886c944",
   "metadata": {},
   "source": [
    "per = float(input(\"Enter your percentage : \"))\n",
    "\n",
    "if per > 90:\n",
    "\tprint(\"A\")\n",
    "elif per > 80 and per <= 90 :\n",
    "\tprint(\"B\")\n",
    "elif per>=60 and per <= 80:\n",
    "\tprint(\"C\")\n",
    "elif per<60:\n",
    "\tprint(\"D\")\n"
   ]
  },
  {
   "cell_type": "markdown",
   "id": "4780f33b-b78c-4a96-88af-41de91701dec",
   "metadata": {},
   "source": [
    "## Answer 2"
   ]
  },
  {
   "cell_type": "raw",
   "id": "d86525d6-af66-472a-adb1-9cf9590f903d",
   "metadata": {},
   "source": [
    "cp = int(input(\"Enter the cost price of the bike : \"))\n",
    "\n",
    "if cp > 100000:\n",
    "\tprint(\"Road tax : {}\".format(0.15 * cp))\n",
    "elif cp > 50000 and cp <= 100000:\n",
    "\tprint(\"Road tax : {}\".format(0.1 * cp))\n",
    "elif cp <= 50000:\n",
    "\tprint(\"Road tax : {}\".format(0.05 * cp))\n"
   ]
  },
  {
   "cell_type": "markdown",
   "id": "cf50cb5f-82e1-470e-a8c7-ffb2adcd264a",
   "metadata": {},
   "source": [
    "## Answer 3"
   ]
  },
  {
   "cell_type": "raw",
   "id": "5846c421-5385-41fb-a401-cc531a7c69b5",
   "metadata": {},
   "source": [
    "city = input(\"Enter the name of the city : \")\n",
    "\n",
    "if city == \"Delhi\":\n",
    "\tprint(\"Red Fort\")\n",
    "elif city == \"Agra\":\n",
    "\tprint(\"Taj Mahal\")\n",
    "elif city == \"Jaipur\":\n",
    "\tprint(\"Jal Mahal\")\n"
   ]
  },
  {
   "cell_type": "markdown",
   "id": "624daa34-2d6e-4234-a623-434973345ee0",
   "metadata": {},
   "source": [
    "## Answer 4"
   ]
  },
  {
   "cell_type": "raw",
   "id": "43154751-6ba9-4918-ac1f-3a04d2c5fd62",
   "metadata": {},
   "source": [
    "num = int(input(\"Enter a number  : \"))                 \n",
    "count = 0\n",
    "\n",
    "while num>10:\n",
    "\tnum = num//3\n",
    "\tcount+=1\n",
    "\n",
    "print(count)\n"
   ]
  },
  {
   "cell_type": "markdown",
   "id": "36fe75f8-5d1a-4628-86dc-95eb30ad1c1c",
   "metadata": {},
   "source": [
    "## Answer 5"
   ]
  },
  {
   "cell_type": "raw",
   "id": "6364ee01-86b7-4f31-b88d-beb983af1e49",
   "metadata": {},
   "source": [
    "While loop is used to repeatedly execute a block of statements while a condition is true. \n",
    "It is used when the number of iterations is not known in advance or when we want to repeat a block of code until a certain condition is met. \n",
    "It may be more efficient in certain conditions where the condition being tested can be evaluated quickly.\n",
    "\n",
    "Eg. : - printing \"hello\" 10 times - \n",
    "\n",
    "count = 1\n",
    "\n",
    "while count<=10:\n",
    "print(\"Hello\")\n",
    "count+=1\n"
   ]
  },
  {
   "cell_type": "markdown",
   "id": "edd17854-bc4a-4356-bb92-f5538b9e4618",
   "metadata": {},
   "source": [
    "## Answer 6"
   ]
  },
  {
   "cell_type": "raw",
   "id": "2cf9a7a8-0099-4b5b-9b4b-8f2181ce56fd",
   "metadata": {},
   "source": [
    "PATTERN 1 (A right-angled triangle) - \n",
    "\n",
    "i = 0\n",
    "while i<=6:\n",
    "    j = 0\n",
    "    while j<=i:\n",
    "        print(\"*\",end = \" \")\n",
    "        j+=1\n",
    "    i+=1\n",
    "    print(\"\\r\")\n",
    "\n",
    "PATTERN 2 (upside down right-angled triangle) - \n",
    "\n",
    "k = 7\n",
    "while k>=1:\n",
    "    l = 1\n",
    "    while l<=k:\n",
    "        print(\"*\",end = \" \")\n",
    "        l+=1\n",
    "    k = k-1\n",
    "    print(\"\\r\")\n",
    "\n",
    "PATTERN 3 ( A square pattern) - \n",
    "\n",
    "k = 1\n",
    "while k<=7:\n",
    "    l = 1\n",
    "    while l<=7:\n",
    "        print(\"*\",end = \" \")\n",
    "        l+=1\n",
    "    k+=1\n",
    "    print(\"\\r\")\n"
   ]
  },
  {
   "cell_type": "markdown",
   "id": "1d352420-db75-4054-957c-7ec6c16fcf22",
   "metadata": {},
   "source": [
    "## Answer 7"
   ]
  },
  {
   "cell_type": "raw",
   "id": "74299fdd-20d5-4a83-ba35-810c05d3babf",
   "metadata": {},
   "source": [
    "i = 10\n",
    "while i>=1:\n",
    "    print(i)\n",
    "    i = i-1\n"
   ]
  },
  {
   "cell_type": "markdown",
   "id": "e2f4b819-936a-47f6-bdc8-6f2c664d5d9c",
   "metadata": {},
   "source": [
    "## Answer 8"
   ]
  },
  {
   "cell_type": "raw",
   "id": "a628d1eb-4456-4325-8233-cd091d1dbf9e",
   "metadata": {},
   "source": [
    "i = 10\n",
    "while i>=1:\n",
    "    print(i)\n",
    "    i = i-1\n"
   ]
  },
  {
   "cell_type": "code",
   "execution_count": null,
   "id": "17b72f94-0b86-423c-811d-5e2bd323ddfa",
   "metadata": {},
   "outputs": [],
   "source": []
  }
 ],
 "metadata": {
  "kernelspec": {
   "display_name": "Python 3 (ipykernel)",
   "language": "python",
   "name": "python3"
  },
  "language_info": {
   "codemirror_mode": {
    "name": "ipython",
    "version": 3
   },
   "file_extension": ".py",
   "mimetype": "text/x-python",
   "name": "python",
   "nbconvert_exporter": "python",
   "pygments_lexer": "ipython3",
   "version": "3.10.8"
  }
 },
 "nbformat": 4,
 "nbformat_minor": 5
}
