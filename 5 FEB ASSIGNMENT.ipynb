{
 "cells": [
  {
   "cell_type": "markdown",
   "id": "f93897fd-0c37-4d00-85a0-ed43f59ab1a1",
   "metadata": {},
   "source": [
    "# FEB 5 ASSIGNMENT"
   ]
  },
  {
   "cell_type": "markdown",
   "id": "4629ff27-6c50-4035-be46-2d9f7b9ba2a0",
   "metadata": {},
   "source": [
    "### ANSWER 1"
   ]
  },
  {
   "cell_type": "markdown",
   "id": "f9f1a82a-901f-4a12-9f3b-2e5d08e62e46",
   "metadata": {},
   "source": [
    "A class is a blueprint or prototype from which objects are created. Classes provide a means of bundling data and functionality together. \n",
    "Each class instance can have attributes attached to it for maintaining its state. Class instances can also have methods"
   ]
  },
  {
   "cell_type": "markdown",
   "id": "ef87997d-352b-4913-afe2-92a15c0dc3db",
   "metadata": {},
   "source": [
    "An object is an instance of a class. A class is like a blueprint while an instance is a copy of the class with actual values."
   ]
  },
  {
   "cell_type": "markdown",
   "id": "0e184d04-8918-4d39-9ec8-e5d3ccf47477",
   "metadata": {},
   "source": [
    "##### Example"
   ]
  },
  {
   "cell_type": "code",
   "execution_count": 152,
   "id": "484f8d92-22ba-44f3-9b0c-93383e111b25",
   "metadata": {},
   "outputs": [],
   "source": [
    "## creating a class\n",
    "\n",
    "class Car:\n",
    "    \n",
    "    def return_msg(self):\n",
    "        print(\"This is a car.\")"
   ]
  },
  {
   "cell_type": "code",
   "execution_count": 153,
   "id": "92a6c948-388a-4df7-a373-0f42ed37cc02",
   "metadata": {},
   "outputs": [],
   "source": [
    "## creating an object\n",
    "c1 = Car()"
   ]
  },
  {
   "cell_type": "code",
   "execution_count": 154,
   "id": "25d6b527-3227-4766-8387-272b8861443b",
   "metadata": {},
   "outputs": [
    {
     "name": "stdout",
     "output_type": "stream",
     "text": [
      "<class '__main__.Car'>\n"
     ]
    }
   ],
   "source": [
    "print(type(c1))"
   ]
  },
  {
   "cell_type": "code",
   "execution_count": 155,
   "id": "0d4b29db-d505-45cb-aeb5-3ed7d0435a3a",
   "metadata": {},
   "outputs": [
    {
     "name": "stdout",
     "output_type": "stream",
     "text": [
      "This is a car.\n"
     ]
    }
   ],
   "source": [
    "c1.return_msg()"
   ]
  },
  {
   "cell_type": "markdown",
   "id": "d95dda4b-ee31-47dd-960f-996466a1e2f1",
   "metadata": {},
   "source": [
    "### ANSWER 2"
   ]
  },
  {
   "cell_type": "markdown",
   "id": "c2f063a9-cac9-477f-a586-c3c5610f7770",
   "metadata": {},
   "source": [
    "The four pillars of OOPs are - \n",
    "* Abstraction\n",
    "* Encapsulation\n",
    "* Inheritance\n",
    "* Polymorphism"
   ]
  },
  {
   "cell_type": "markdown",
   "id": "11372e86-6ecb-4335-81e8-ae0df9e9d142",
   "metadata": {},
   "source": [
    "### ANSWER 3"
   ]
  },
  {
   "cell_type": "markdown",
   "id": "8f36a1b5-7fcb-4a4a-b1e5-fc19e856e079",
   "metadata": {},
   "source": [
    "In Python, the __init__() method is used as a constructor.\n",
    "\n",
    "Constructor helps a class to take some data. The task of constructors is to initialize (assign values) to the data members of the class when an object of the class is created. The method is useful to do any initialisation we want to do with the object."
   ]
  },
  {
   "cell_type": "markdown",
   "id": "e7d642b7-6d2a-4a72-8ac9-b44ea72163a6",
   "metadata": {},
   "source": [
    "##### Example"
   ]
  },
  {
   "cell_type": "code",
   "execution_count": 159,
   "id": "53a80203-6570-4667-8be0-4a26448e7eee",
   "metadata": {},
   "outputs": [],
   "source": [
    "class Student:\n",
    "    \n",
    "    def __init__(self, phone, stud_id):\n",
    "        self.phone = phone\n",
    "        self.stud_id = stud_id\n",
    "        \n",
    "    def details(self):\n",
    "        print(\"The phone number is {} and the student ID is {}.\".format(self.phone,self.stud_id))"
   ]
  },
  {
   "cell_type": "code",
   "execution_count": 160,
   "id": "6a0f13f9-1f91-47ad-870c-b698bbfa0be0",
   "metadata": {},
   "outputs": [],
   "source": [
    "mohan = Student(99956422,120)"
   ]
  },
  {
   "cell_type": "code",
   "execution_count": 161,
   "id": "5944ee06-8823-4144-9873-430aeb8876c6",
   "metadata": {},
   "outputs": [
    {
     "name": "stdout",
     "output_type": "stream",
     "text": [
      "The phone number is 99956422 and the student ID is 120.\n"
     ]
    }
   ],
   "source": [
    "mohan.details()"
   ]
  },
  {
   "cell_type": "markdown",
   "id": "9a5ae53f-a4a9-4808-8088-165531baca9b",
   "metadata": {},
   "source": [
    "### ANSWER 4"
   ]
  },
  {
   "cell_type": "markdown",
   "id": "eec76021-60ba-4bb0-88a7-545fbe34fcda",
   "metadata": {},
   "source": [
    "Self represents the instance of the class. By using the “self”  we can access the attributes and methods of the class in Python. It binds the attributes with the given arguments.\n",
    "\n",
    "However, it is not a keyword, it is a reference. \n",
    "\n",
    "The term “self” refers to the instance of the class that is currently being used. We use “self” as the first parameter in instance methods of a class. Whenever we call a method of an object created from a class, the object is automatically passed as the first argument using the “self” parameter."
   ]
  },
  {
   "cell_type": "markdown",
   "id": "bff04c2a-1f67-495d-8fc2-ceef70cd1363",
   "metadata": {},
   "source": [
    "##### Example"
   ]
  },
  {
   "cell_type": "code",
   "execution_count": 163,
   "id": "d82f3ded-7c52-42ca-a735-a235e26ef474",
   "metadata": {},
   "outputs": [],
   "source": [
    "class animal:\n",
    "    \n",
    "    def __init__(self,name):\n",
    "        self.name = name\n",
    "        \n",
    "    def details(self):\n",
    "        print(\"This species is {}.\".format(self.name))"
   ]
  },
  {
   "cell_type": "code",
   "execution_count": 164,
   "id": "900ddded-2771-46a0-b901-5433e5a7c2cc",
   "metadata": {},
   "outputs": [],
   "source": [
    "a1 = animal(\"Tiger\")"
   ]
  },
  {
   "cell_type": "code",
   "execution_count": 165,
   "id": "be1dd916-04c8-4769-8b77-6e2c65183674",
   "metadata": {},
   "outputs": [
    {
     "name": "stdout",
     "output_type": "stream",
     "text": [
      "This species is Tiger.\n"
     ]
    }
   ],
   "source": [
    "a1.details()"
   ]
  },
  {
   "cell_type": "markdown",
   "id": "b986f225-adfc-41e4-ad05-37e202b3e103",
   "metadata": {},
   "source": [
    "### ANSWER 5"
   ]
  },
  {
   "cell_type": "markdown",
   "id": "68c16290-eb76-426e-97f3-cc455e5267c7",
   "metadata": {},
   "source": [
    "Inheritance is a mechanism that allows us to create a hierarchy of classes that share a set of properties and methods by deriving a class from another class. Inheritance is the capability of one class to derive or inherit the properties from another class. "
   ]
  },
  {
   "cell_type": "markdown",
   "id": "d18f81ab-2dbb-4a05-9ac1-18b8fa2e79ea",
   "metadata": {},
   "source": [
    "#### Examples"
   ]
  },
  {
   "cell_type": "markdown",
   "id": "50bb017f-2f72-4eb0-a5b1-3aca21880802",
   "metadata": {},
   "source": [
    "#### single inheritance\n",
    "\n",
    "When a child inherits from only one parent class"
   ]
  },
  {
   "cell_type": "code",
   "execution_count": 168,
   "id": "c1e3e900-8761-4c2a-8e77-1ebe501f4942",
   "metadata": {},
   "outputs": [],
   "source": [
    "## parent class\n",
    "class A : \n",
    "    \n",
    "    def return_A(self):\n",
    "        print(\"This is class A.\")\n",
    "        \n",
    "class B(A):\n",
    "    \n",
    "    def return_B(self):\n",
    "        print(\"This is class B.\")"
   ]
  },
  {
   "cell_type": "code",
   "execution_count": 173,
   "id": "9fa2f299-7830-4fe6-8f9b-cbfe0ef94af4",
   "metadata": {},
   "outputs": [],
   "source": [
    "obj = B() ## object of B "
   ]
  },
  {
   "cell_type": "code",
   "execution_count": 208,
   "id": "9edcc2c1-e17a-472f-af3e-57eb26031af1",
   "metadata": {},
   "outputs": [
    {
     "name": "stdout",
     "output_type": "stream",
     "text": [
      "This is class A.\n"
     ]
    }
   ],
   "source": [
    "obj.return_A() ## object of class B being able to access method of parent class A"
   ]
  },
  {
   "cell_type": "markdown",
   "id": "25d07880-fc90-4c21-addb-6790e963254a",
   "metadata": {},
   "source": [
    "#### multiple inheritance\n",
    "\n",
    "When a child inherits from multiple parent classes"
   ]
  },
  {
   "cell_type": "code",
   "execution_count": 183,
   "id": "7c4be65f-cb6e-4106-826e-90ff6bb5d0b3",
   "metadata": {},
   "outputs": [],
   "source": [
    "# parent class 1\n",
    "class C :\n",
    "    \n",
    "    def return_C(self):\n",
    "        print(\"This is class C.\")\n",
    " \n",
    "## parent class 2\n",
    "class D : \n",
    "    \n",
    "    def return_D(self):\n",
    "        print(\"This is class D.\")\n",
    "\n",
    "## child class        \n",
    "class E(C,D):\n",
    "    pass"
   ]
  },
  {
   "cell_type": "code",
   "execution_count": 184,
   "id": "dfbd5871-444d-43f1-a206-b55dae82bdfc",
   "metadata": {},
   "outputs": [],
   "source": [
    "obj1 = E() ## object of class E"
   ]
  },
  {
   "cell_type": "code",
   "execution_count": 209,
   "id": "032529f9-4568-4095-81b7-7b25b49354f2",
   "metadata": {},
   "outputs": [
    {
     "name": "stdout",
     "output_type": "stream",
     "text": [
      "This is class C.\n"
     ]
    }
   ],
   "source": [
    "obj1.return_C()  ## accessing method of parent class C"
   ]
  },
  {
   "cell_type": "code",
   "execution_count": 210,
   "id": "e321fd53-d054-437e-b0c7-2f35e0da1f59",
   "metadata": {},
   "outputs": [
    {
     "name": "stdout",
     "output_type": "stream",
     "text": [
      "This is class D.\n"
     ]
    }
   ],
   "source": [
    "obj1.return_D() ## accessing method of parent class D"
   ]
  },
  {
   "cell_type": "markdown",
   "id": "0849cb54-f840-4ca3-bf25-3e39cdf728df",
   "metadata": {},
   "source": [
    "#### multilevel inheritance\n",
    "\n",
    "When we have a child and grandchild relationship. Here, a child class will inherit from its parent class, which in turn is inheriting from its parent class."
   ]
  },
  {
   "cell_type": "code",
   "execution_count": 187,
   "id": "a97a0641-cd60-41e0-ae13-fecc9521fd68",
   "metadata": {},
   "outputs": [],
   "source": [
    "# parent class\n",
    "class Base:\n",
    "    \n",
    "    def detail(self):\n",
    "        print(\"This is Base.\")\n",
    "        \n",
    "## child class\n",
    "class Child(Base):\n",
    "    \n",
    "    def info(self):\n",
    "        print(\"This is child.\")\n",
    "        \n",
    "## sub class\n",
    "class grandchild(Child):\n",
    "    \n",
    "    def intro(self):\n",
    "        print(\"This is grandchild.\")"
   ]
  },
  {
   "cell_type": "code",
   "execution_count": 188,
   "id": "607b5e7a-2ba2-4fb9-9a71-7a67903a729c",
   "metadata": {},
   "outputs": [],
   "source": [
    "obj2 = grandchild()  ## object of grandchild class "
   ]
  },
  {
   "cell_type": "code",
   "execution_count": 191,
   "id": "02f74363-c8bf-43cd-b3bf-cba08843650e",
   "metadata": {},
   "outputs": [
    {
     "name": "stdout",
     "output_type": "stream",
     "text": [
      "This is child.\n"
     ]
    }
   ],
   "source": [
    "obj2.info()  ## accessing method of child class"
   ]
  },
  {
   "cell_type": "code",
   "execution_count": 192,
   "id": "661a8fed-2317-4b18-802f-19c2ebbda1d5",
   "metadata": {},
   "outputs": [
    {
     "name": "stdout",
     "output_type": "stream",
     "text": [
      "This is Base.\n"
     ]
    }
   ],
   "source": [
    "obj2.detail()  ## accessing method of Base class"
   ]
  },
  {
   "cell_type": "markdown",
   "id": "2993d476-8850-455c-87f7-6cda7e3189fd",
   "metadata": {},
   "source": [
    "#### Hierarchical inheritance\n",
    "\n",
    "More than one derived class can be created from a single class"
   ]
  },
  {
   "cell_type": "code",
   "execution_count": 193,
   "id": "a468833f-5262-49b1-8d1c-478cf38c2be5",
   "metadata": {},
   "outputs": [],
   "source": [
    "## parent class\n",
    "class A1:\n",
    "    \n",
    "    def info_A1(self):\n",
    "        print(\"This is A1.\")\n",
    "\n",
    "## child class 1\n",
    "class A2(A1):\n",
    "    pass\n",
    "\n",
    "## child class 2\n",
    "class A3(A1):\n",
    "    pass\n",
    "\n",
    "## child class 3\n",
    "class A4(A1):\n",
    "    pass"
   ]
  },
  {
   "cell_type": "code",
   "execution_count": 194,
   "id": "76ec3ebf-14c7-49d3-a5b5-bc5d6bf687df",
   "metadata": {},
   "outputs": [],
   "source": [
    "obj4 = A2()  ## object of class A2\n",
    "obj5 = A3()  ## object of class A3\n",
    "obj6 = A4()  ## object of class A4"
   ]
  },
  {
   "cell_type": "code",
   "execution_count": 195,
   "id": "4715795a-59e2-483a-ab69-4ed0773b0c8a",
   "metadata": {},
   "outputs": [
    {
     "name": "stdout",
     "output_type": "stream",
     "text": [
      "This is A1.\n"
     ]
    }
   ],
   "source": [
    "obj4.info_A1()  ## object of class A2 accessing method of parent class A1"
   ]
  },
  {
   "cell_type": "code",
   "execution_count": 196,
   "id": "6bb228db-4097-4aaf-a9c4-36f99bd3302e",
   "metadata": {},
   "outputs": [
    {
     "name": "stdout",
     "output_type": "stream",
     "text": [
      "This is A1.\n"
     ]
    }
   ],
   "source": [
    "obj5.info_A1()  ## object of class A3 accessing method of parent class A1"
   ]
  },
  {
   "cell_type": "code",
   "execution_count": 197,
   "id": "9b82b3cb-033c-4934-96b0-b3d037b7a574",
   "metadata": {},
   "outputs": [
    {
     "name": "stdout",
     "output_type": "stream",
     "text": [
      "This is A1.\n"
     ]
    }
   ],
   "source": [
    "obj6.info_A1()  ## object of class A4 accessing method of parent class A1"
   ]
  },
  {
   "cell_type": "markdown",
   "id": "9084a24e-89f8-4d7d-9f7b-3cda52f8f1cc",
   "metadata": {},
   "source": [
    "#### Hybrid inheritance\n",
    "\n",
    "This form combines more than one form of inheritance."
   ]
  },
  {
   "cell_type": "code",
   "execution_count": 211,
   "id": "e94649d7-9ec5-44a2-aa2e-7887fa9dd0c0",
   "metadata": {},
   "outputs": [],
   "source": [
    "## Here, we have a class c1 which is having two child classes - c2 and c3. And we have another class c4, which is the child class of both c2 & c3\n",
    "\n",
    "class c1 : \n",
    "    \n",
    "    def info_c1(self):\n",
    "        print(\"This is c1.\")\n",
    "\n",
    "## child class 1 of c1\n",
    "class c2(c1):\n",
    "    \n",
    "    def info_c2(self):\n",
    "        print(\"This is c2.\")\n",
    "\n",
    "## child class 2 of c1\n",
    "class c3(c1):\n",
    "    \n",
    "    def info_c3(self):\n",
    "        print(\"This is c3.\")\n",
    "\n",
    "## child class of c2 and c3\n",
    "class c4(c2,c3):\n",
    "    pass"
   ]
  },
  {
   "cell_type": "code",
   "execution_count": 202,
   "id": "28b56f68-5846-4133-b671-9dcaf7e37652",
   "metadata": {},
   "outputs": [],
   "source": [
    "obj7 = c2()  ## creating object of class c2\n",
    "obj8 = c3()  ## creating object of class c3\n",
    "obj9 = c4()  ## creating object of clas c4"
   ]
  },
  {
   "cell_type": "code",
   "execution_count": 203,
   "id": "3b349333-839e-4d83-849b-024fd7cd3aed",
   "metadata": {},
   "outputs": [
    {
     "name": "stdout",
     "output_type": "stream",
     "text": [
      "This is c1.\n"
     ]
    }
   ],
   "source": [
    "obj7.info_c1()  ## object of c2 accessing method of its parent class c1"
   ]
  },
  {
   "cell_type": "code",
   "execution_count": 204,
   "id": "a1b46c81-19cb-4329-a717-2b73a4562ba8",
   "metadata": {},
   "outputs": [
    {
     "name": "stdout",
     "output_type": "stream",
     "text": [
      "This is c1.\n"
     ]
    }
   ],
   "source": [
    "obj8.info_c1() ## object of c3 accessing method of its parent class c1"
   ]
  },
  {
   "cell_type": "code",
   "execution_count": 205,
   "id": "5e2fba1f-bc14-4d59-904e-64378b114cae",
   "metadata": {},
   "outputs": [
    {
     "name": "stdout",
     "output_type": "stream",
     "text": [
      "This is c2.\n"
     ]
    }
   ],
   "source": [
    "obj9.info_c2()  ## object of c4 accessing method of its parent class c2"
   ]
  },
  {
   "cell_type": "code",
   "execution_count": 206,
   "id": "a7d4a2ec-ae42-410b-a161-d0632f6f6092",
   "metadata": {},
   "outputs": [
    {
     "name": "stdout",
     "output_type": "stream",
     "text": [
      "This is c3.\n"
     ]
    }
   ],
   "source": [
    "obj9.info_c3()  ## object of c4 accessing method of its parent class c3"
   ]
  },
  {
   "cell_type": "code",
   "execution_count": 207,
   "id": "ab8826df-1ffb-410a-bf6b-c03e44d70408",
   "metadata": {},
   "outputs": [
    {
     "name": "stdout",
     "output_type": "stream",
     "text": [
      "This is c1.\n"
     ]
    }
   ],
   "source": [
    "obj9.info_c1()  ## object of c4 accessing method of class c1"
   ]
  },
  {
   "cell_type": "code",
   "execution_count": null,
   "id": "ad76824c-e914-4b18-85c9-61f895432f02",
   "metadata": {},
   "outputs": [],
   "source": []
  }
 ],
 "metadata": {
  "kernelspec": {
   "display_name": "Python 3 (ipykernel)",
   "language": "python",
   "name": "python3"
  },
  "language_info": {
   "codemirror_mode": {
    "name": "ipython",
    "version": 3
   },
   "file_extension": ".py",
   "mimetype": "text/x-python",
   "name": "python",
   "nbconvert_exporter": "python",
   "pygments_lexer": "ipython3",
   "version": "3.10.8"
  }
 },
 "nbformat": 4,
 "nbformat_minor": 5
}
