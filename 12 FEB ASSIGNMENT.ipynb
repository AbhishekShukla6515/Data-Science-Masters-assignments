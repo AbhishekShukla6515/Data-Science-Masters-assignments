{
 "cells": [
  {
   "cell_type": "markdown",
   "id": "745dfc93-e069-4359-86ef-0cf82f129795",
   "metadata": {},
   "source": [
    "# 12 FEB ASSIGNMENT"
   ]
  },
  {
   "cell_type": "markdown",
   "id": "0b3b9f29-ad5f-4551-a030-10abd731d7de",
   "metadata": {},
   "source": [
    "### ANSWER 1"
   ]
  },
  {
   "cell_type": "markdown",
   "id": "10dd5851-9646-4d8f-96f1-624437cc02e5",
   "metadata": {},
   "source": [
    "An exception is an event, which occurs during the execution of a program that disrupts the normal flow of the program's instructions.\n",
    "* When a Python script encounters a situation that it cannot cope with, it raises an exception."
   ]
  },
  {
   "cell_type": "markdown",
   "id": "97e0d2b2-fd1f-40eb-b6d5-d86589313a11",
   "metadata": {},
   "source": [
    "* Syntax Error - When the proper syntax of the language is not followed then a syntax error is thrown. It leads to the termination of the program.\n",
    "* Exception - When in the runtime, an error occurs after passing the syntax test, then that is called an exception. It changes the normal flow of the program."
   ]
  },
  {
   "cell_type": "markdown",
   "id": "c82aa8c8-badb-422f-97e0-7321c71af9fa",
   "metadata": {},
   "source": [
    "### ANSWER 2"
   ]
  },
  {
   "cell_type": "markdown",
   "id": "7aaa84f9-c1f1-4cc9-9533-1d5036fd87bf",
   "metadata": {},
   "source": [
    "If exceptions are not handled, it drives a program into a halt state. Exception disrupts the normal flow of the program and can lead to a halt state or even a crash."
   ]
  },
  {
   "cell_type": "markdown",
   "id": "7623e940-48b3-4143-9dbf-e350d49c62d5",
   "metadata": {},
   "source": [
    "##### Example"
   ]
  },
  {
   "cell_type": "code",
   "execution_count": 1,
   "id": "4090fabf-94e1-4ed6-b789-d866ba6db0af",
   "metadata": {},
   "outputs": [
    {
     "ename": "ZeroDivisionError",
     "evalue": "division by zero",
     "output_type": "error",
     "traceback": [
      "\u001b[0;31m---------------------------------------------------------------------------\u001b[0m",
      "\u001b[0;31mZeroDivisionError\u001b[0m                         Traceback (most recent call last)",
      "Cell \u001b[0;32mIn[1], line 2\u001b[0m\n\u001b[1;32m      1\u001b[0m a \u001b[38;5;241m=\u001b[39m \u001b[38;5;241m10\u001b[39m\u001b[38;5;241m/\u001b[39m\u001b[38;5;241m2\u001b[39m\n\u001b[0;32m----> 2\u001b[0m b \u001b[38;5;241m=\u001b[39m \u001b[38;5;241;43m1\u001b[39;49m\u001b[38;5;241;43m/\u001b[39;49m\u001b[38;5;241;43m0\u001b[39;49m\n\u001b[1;32m      4\u001b[0m \u001b[38;5;28mprint\u001b[39m(\u001b[38;5;124m\"\u001b[39m\u001b[38;5;124mDivision operations are performed.\u001b[39m\u001b[38;5;124m\"\u001b[39m)\n\u001b[1;32m      5\u001b[0m \u001b[38;5;28mprint\u001b[39m(\u001b[38;5;124m\"\u001b[39m\u001b[38;5;124mThank You.\u001b[39m\u001b[38;5;124m\"\u001b[39m)\n",
      "\u001b[0;31mZeroDivisionError\u001b[0m: division by zero"
     ]
    }
   ],
   "source": [
    "a = 10/2\n",
    "b = 1/0\n",
    "\n",
    "print(\"Division operations are performed.\")\n",
    "print(\"Thank You.\")"
   ]
  },
  {
   "cell_type": "markdown",
   "id": "2f5da0be-606e-4828-be2b-6b8ccc53127a",
   "metadata": {},
   "source": [
    "### ANSWER 3"
   ]
  },
  {
   "cell_type": "markdown",
   "id": "778be14b-04ed-44ad-a46b-56e54e6bfad5",
   "metadata": {},
   "source": [
    "Try and except statements are used to catch and handle exceptions in Python.\n",
    "* Statements that can raise exceptions are kept inside the try clause and the statements that handle the exception are written inside except clause."
   ]
  },
  {
   "cell_type": "markdown",
   "id": "fe926137-b821-4cb6-bb84-6f97cf47a553",
   "metadata": {},
   "source": [
    "##### Example"
   ]
  },
  {
   "cell_type": "code",
   "execution_count": 2,
   "id": "3e0b9783-0b53-42cc-87c4-492d9b85a075",
   "metadata": {},
   "outputs": [
    {
     "name": "stdout",
     "output_type": "stream",
     "text": [
      "An error occurred : list index out of range\n"
     ]
    }
   ],
   "source": [
    "lst = [1,2,3]\n",
    "\n",
    "try:\n",
    "    print(lst[3])\n",
    "except Exception as e:\n",
    "    print(\"An error occurred :\",e)"
   ]
  },
  {
   "cell_type": "markdown",
   "id": "0371eabd-0eaf-4e51-beee-73935386fe8a",
   "metadata": {},
   "source": [
    "### ANSWER 4"
   ]
  },
  {
   "cell_type": "markdown",
   "id": "f577b49e-d805-4dc9-a2a5-4ccc44ea5f86",
   "metadata": {},
   "source": [
    "* try and else - We can also use the else clause on the try-except block which must be present after all the except clauses. The code enters the else block only if the try clause does not raise an exception."
   ]
  },
  {
   "cell_type": "code",
   "execution_count": 3,
   "id": "47594dad-0aac-49fa-89a7-5c8b12dd378c",
   "metadata": {},
   "outputs": [
    {
     "name": "stdout",
     "output_type": "stream",
     "text": [
      "Operation successful\n"
     ]
    }
   ],
   "source": [
    "try:\n",
    "    f = open(\"my_file.txt\",\"w\")\n",
    "    f.write(\"This is my file.\")\n",
    "except Exception as e:\n",
    "    print(\"An exception occurred\",e)\n",
    "else:\n",
    "    f.close()\n",
    "    print(\"Operation successful\")"
   ]
  },
  {
   "cell_type": "markdown",
   "id": "cf806428-58cb-4672-9e5b-1e3b915dc60e",
   "metadata": {},
   "source": [
    "* finally - It is always executed after the try and except blocks. It always executes after the normal termination of the try block or after the try block terminates due to some exception."
   ]
  },
  {
   "cell_type": "code",
   "execution_count": 4,
   "id": "99677ec5-69e2-440a-a04d-9905122599fb",
   "metadata": {},
   "outputs": [
    {
     "name": "stdout",
     "output_type": "stream",
     "text": [
      "An exception occurred : [Errno 2] No such file or directory: 'my_file2.txt'\n",
      "The file is either read or does not exist.\n"
     ]
    }
   ],
   "source": [
    "try:\n",
    "    f = open(\"my_file2.txt\",\"r\")\n",
    "except Exception as e:\n",
    "    print(\"An exception occurred :\",e)\n",
    "finally:\n",
    "    print(\"The file is either read or does not exist.\")"
   ]
  },
  {
   "cell_type": "markdown",
   "id": "108e9c15-a761-4c88-9c96-01b28796bd98",
   "metadata": {},
   "source": [
    "* raise - It allows a programmer to force a specific exception to occur. The sole argument in raise indicates the exception to be raised. This must be either an exception instance or an exception class (a class that derives from Exception)."
   ]
  },
  {
   "cell_type": "code",
   "execution_count": 5,
   "id": "a6b09b21-1529-4e76-9e87-42667c5ef468",
   "metadata": {},
   "outputs": [
    {
     "name": "stdin",
     "output_type": "stream",
     "text": [
      "Enter a number : -25\n"
     ]
    },
    {
     "ename": "Exception",
     "evalue": "Sorry, no negative numbers.",
     "output_type": "error",
     "traceback": [
      "\u001b[0;31m---------------------------------------------------------------------------\u001b[0m",
      "\u001b[0;31mException\u001b[0m                                 Traceback (most recent call last)",
      "Cell \u001b[0;32mIn[5], line 4\u001b[0m\n\u001b[1;32m      1\u001b[0m x \u001b[38;5;241m=\u001b[39m \u001b[38;5;28mint\u001b[39m(\u001b[38;5;28minput\u001b[39m(\u001b[38;5;124m\"\u001b[39m\u001b[38;5;124mEnter a number :\u001b[39m\u001b[38;5;124m\"\u001b[39m))\n\u001b[1;32m      3\u001b[0m \u001b[38;5;28;01mif\u001b[39;00m x\u001b[38;5;241m<\u001b[39m\u001b[38;5;241m0\u001b[39m:\n\u001b[0;32m----> 4\u001b[0m     \u001b[38;5;28;01mraise\u001b[39;00m \u001b[38;5;167;01mException\u001b[39;00m(\u001b[38;5;124m\"\u001b[39m\u001b[38;5;124mSorry, no negative numbers.\u001b[39m\u001b[38;5;124m\"\u001b[39m)\n",
      "\u001b[0;31mException\u001b[0m: Sorry, no negative numbers."
     ]
    }
   ],
   "source": [
    "x = int(input(\"Enter a number :\"))\n",
    "\n",
    "if x<0:\n",
    "    raise Exception(\"Sorry, no negative numbers.\")"
   ]
  },
  {
   "cell_type": "markdown",
   "id": "9b59b9bd-8346-4802-a735-5ac857a8ffd0",
   "metadata": {},
   "source": [
    "### ANSWER 5"
   ]
  },
  {
   "cell_type": "markdown",
   "id": "cd5fd440-5376-486b-b981-9ae18bced1a0",
   "metadata": {},
   "source": [
    "Custom exceptions are user-defined exceptions which are used to handle a specific scenario in a program.  "
   ]
  },
  {
   "cell_type": "markdown",
   "id": "08c3f1ee-63f2-4d4e-89c3-e2a8cdb55661",
   "metadata": {},
   "source": [
    "We need custom exceptions to - \n",
    "* Handle specific errors.\n",
    "* Add more descriptive error information and handle errors.\n",
    "\n",
    "By the help of this, we can create more specific type of exceptions that can provide more context about the type of error that occurred, making it easier to understand and handle these errors."
   ]
  },
  {
   "cell_type": "code",
   "execution_count": 6,
   "id": "0100ed58-b133-4fba-bfc4-c09d8ca42178",
   "metadata": {},
   "outputs": [
    {
     "name": "stdin",
     "output_type": "stream",
     "text": [
      "Enter your age : 12\n"
     ]
    },
    {
     "name": "stdout",
     "output_type": "stream",
     "text": [
      "Exception : Invalid Age\n"
     ]
    }
   ],
   "source": [
    "class Invalid_age(Exception):\n",
    "    pass\n",
    "\n",
    "r_age = 18\n",
    "\n",
    "try:\n",
    "    age = int(input(\"Enter your age :\"))\n",
    "    if age<r_age:\n",
    "        raise Invalid_age\n",
    "    else:\n",
    "        print(\"Eligible to vote.\")\n",
    "        \n",
    "except Invalid_age:\n",
    "    print(\"Exception : Invalid Age\")"
   ]
  },
  {
   "cell_type": "markdown",
   "id": "80e400ee-ccc5-4fca-a949-892ba142c6d5",
   "metadata": {},
   "source": [
    "### ANSWER 6"
   ]
  },
  {
   "cell_type": "code",
   "execution_count": 12,
   "id": "b16c299e-b451-4103-95a6-b5982cc096f9",
   "metadata": {},
   "outputs": [],
   "source": [
    "class validgrade(Exception):\n",
    "    \n",
    "    def __init__(self,msg):\n",
    "        self.msg = msg"
   ]
  },
  {
   "cell_type": "code",
   "execution_count": 13,
   "id": "505b4f11-d178-4344-8871-cfa547a1a25c",
   "metadata": {},
   "outputs": [],
   "source": [
    "def valid_grade(grade):\n",
    "    if grade<75:\n",
    "        if grade<0:\n",
    "            raise validgrade(\"Invalid input\")\n",
    "        else:\n",
    "            raise validgrade(\"Your grades should be more than or equal to 75.\")\n",
    "    else:\n",
    "        if grade>100:\n",
    "            raise validgrade(\"Invalid input\")\n",
    "        else:\n",
    "            print(\"You are eligible to apply.\")"
   ]
  },
  {
   "cell_type": "code",
   "execution_count": 14,
   "id": "216cf8b2-a181-4fec-af2a-7975a30873dd",
   "metadata": {},
   "outputs": [
    {
     "name": "stdin",
     "output_type": "stream",
     "text": [
      "Enter your grades : 60\n"
     ]
    },
    {
     "name": "stdout",
     "output_type": "stream",
     "text": [
      "Your grades should be more than or equal to 75.\n"
     ]
    }
   ],
   "source": [
    "try:\n",
    "    marks = int(input(\"Enter your grades :\"))\n",
    "    valid_grade(marks)\n",
    "except validgrade as e:\n",
    "    print(e)"
   ]
  },
  {
   "cell_type": "code",
   "execution_count": null,
   "id": "5de63de5-5367-4270-a88c-74e8efe47f8a",
   "metadata": {},
   "outputs": [],
   "source": []
  }
 ],
 "metadata": {
  "kernelspec": {
   "display_name": "Python 3 (ipykernel)",
   "language": "python",
   "name": "python3"
  },
  "language_info": {
   "codemirror_mode": {
    "name": "ipython",
    "version": 3
   },
   "file_extension": ".py",
   "mimetype": "text/x-python",
   "name": "python",
   "nbconvert_exporter": "python",
   "pygments_lexer": "ipython3",
   "version": "3.10.8"
  }
 },
 "nbformat": 4,
 "nbformat_minor": 5
}
