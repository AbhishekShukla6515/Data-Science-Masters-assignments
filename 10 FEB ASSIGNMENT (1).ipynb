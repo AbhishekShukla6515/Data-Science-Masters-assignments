{
 "cells": [
  {
   "cell_type": "markdown",
   "id": "a9d629ce-514d-4be5-9a26-acc2e8c8c8f2",
   "metadata": {},
   "source": [
    "# 10 FEB ASSIGNMENT"
   ]
  },
  {
   "cell_type": "markdown",
   "id": "66971a9c-245e-4d05-b499-e1c311b8d9a9",
   "metadata": {},
   "source": [
    "### ANSWER 1"
   ]
  },
  {
   "cell_type": "markdown",
   "id": "5ea837d5-02b7-4f3c-888d-7aa8d15863db",
   "metadata": {},
   "source": [
    "The open() function is used to open a file in Python."
   ]
  },
  {
   "cell_type": "markdown",
   "id": "52d6840b-f9b5-4bc0-943e-f1cabaea978d",
   "metadata": {},
   "source": [
    "The different modes of opening a file include - "
   ]
  },
  {
   "cell_type": "markdown",
   "id": "f84db114-401f-4e61-8339-d3a8d4bc96d5",
   "metadata": {},
   "source": [
    "* Read only ('r') - Open text file for reading. If file doesn't exist, raises the I/O error. This is also the default mode in which the file is opened. \n"
   ]
  },
  {
   "cell_type": "markdown",
   "id": "bfb22c81-f3ce-4ed6-8b85-4244ec96834a",
   "metadata": {},
   "source": [
    "* Write only ('w') - Open the file for writing. For the existing files, the data is truncated and over-written. Creates the file if file does not exist. "
   ]
  },
  {
   "cell_type": "markdown",
   "id": "8dd4e0ff-2f9d-44a6-a025-eb376962e4d4",
   "metadata": {},
   "source": [
    "* Append only ('a') - Open the file for appending. Writes data at the end of the file without overwriting it.  "
   ]
  },
  {
   "cell_type": "markdown",
   "id": "dc33cacd-931c-4bb9-ad9e-19362ae9d2f7",
   "metadata": {},
   "source": [
    "* Binary ('b') - Binary mode. "
   ]
  },
  {
   "cell_type": "markdown",
   "id": "ac2b649e-8199-48b9-9340-a5fd3b98ba3e",
   "metadata": {},
   "source": [
    "* 'x' - This is called exclusive creation mode. Opens file for writing but only if it doesn't exist. It also raises an error if the file already exists."
   ]
  },
  {
   "cell_type": "markdown",
   "id": "2a9ef56f-382d-48cd-878e-df1434f821b0",
   "metadata": {},
   "source": [
    "* '+' - open a disk file for updating (perform both read and write operation on file)"
   ]
  },
  {
   "cell_type": "markdown",
   "id": "ec2bec0c-ccfd-4a03-83b4-6fd085d447f2",
   "metadata": {},
   "source": [
    "### ANSWER 2"
   ]
  },
  {
   "cell_type": "markdown",
   "id": "3fa31f85-9017-4ffd-bcec-4d8906e8079c",
   "metadata": {},
   "source": [
    "The close() function is used to close an opened file. "
   ]
  },
  {
   "cell_type": "markdown",
   "id": "012cf3f8-e573-408f-9c60-5bd9e823f611",
   "metadata": {},
   "source": [
    "It is a standard practice to close a file because-\n",
    "* closed file reduces the risk of being unwarrantedly modified or read.\n",
    "* will help to save the program resources\n",
    "* will protect against hard-to-debug issues like running out of file handles or experiencing corrupted data."
   ]
  },
  {
   "cell_type": "markdown",
   "id": "8f4828a1-5822-4b1a-a016-5b2f74c281aa",
   "metadata": {},
   "source": [
    "### ANSWER 3"
   ]
  },
  {
   "cell_type": "code",
   "execution_count": 1,
   "id": "77040d9b-a04c-4405-91c9-d604fb7a44c3",
   "metadata": {},
   "outputs": [],
   "source": [
    "f = open(\"test.txt\",\"w\")"
   ]
  },
  {
   "cell_type": "code",
   "execution_count": 2,
   "id": "fc0f16f2-66de-4686-9cf3-e4cc96008dfe",
   "metadata": {},
   "outputs": [
    {
     "data": {
      "text/plain": [
       "33"
      ]
     },
     "execution_count": 2,
     "metadata": {},
     "output_type": "execute_result"
    }
   ],
   "source": [
    "f.write(\"I want to become a Data Scientist\")"
   ]
  },
  {
   "cell_type": "code",
   "execution_count": 3,
   "id": "3de93a34-c058-4d5c-8d67-07f5e7631219",
   "metadata": {},
   "outputs": [],
   "source": [
    "f.close()"
   ]
  },
  {
   "cell_type": "code",
   "execution_count": 4,
   "id": "2d1d8b55-6387-4022-a4cc-9dc4407e9202",
   "metadata": {},
   "outputs": [],
   "source": [
    "f = open(\"test.txt\",\"r\")"
   ]
  },
  {
   "cell_type": "code",
   "execution_count": 5,
   "id": "2238f2fd-e8f6-4df8-a1d7-4888e0f203f8",
   "metadata": {},
   "outputs": [
    {
     "data": {
      "text/plain": [
       "'I want to become a Data Scientist'"
      ]
     },
     "execution_count": 5,
     "metadata": {},
     "output_type": "execute_result"
    }
   ],
   "source": [
    "f.read()"
   ]
  },
  {
   "cell_type": "markdown",
   "id": "b194928e-eeb0-49a3-a4ec-4d0b06825299",
   "metadata": {},
   "source": [
    "### ANSWER 4"
   ]
  },
  {
   "cell_type": "code",
   "execution_count": 7,
   "id": "46136ab2-bece-49f6-9244-e081c0ea853f",
   "metadata": {},
   "outputs": [],
   "source": [
    "with open(\"test2.txt\",\"w\") as data:\n",
    "    data.write(\"A coral reef is an underwater ecosystem characterized by reef-building corals. Reefs are formed of colonies of coral polyps held together by calcium carbonate.\\nA trench is a type of excavation or depression in the ground that is generally deeper than it is wide, and narrow compared with its length. In geology, trenches result from erosion by rivers or by geological movement of tectonic plates.\")"
   ]
  },
  {
   "cell_type": "markdown",
   "id": "418d6ad0-6385-4e61-804a-63d2efe0e35f",
   "metadata": {},
   "source": [
    "* read() - Returns the read bytes in form of a string. Reads n bytes, if no n specified, reads the entire file."
   ]
  },
  {
   "cell_type": "code",
   "execution_count": 18,
   "id": "a1a2bfb5-204d-4b1a-b048-37154b72e5c2",
   "metadata": {},
   "outputs": [],
   "source": [
    "f = open(\"test2.txt\",\"r\")"
   ]
  },
  {
   "cell_type": "code",
   "execution_count": 19,
   "id": "fcdb9a96-444a-4b7a-bfd5-5c67038139bc",
   "metadata": {},
   "outputs": [
    {
     "data": {
      "text/plain": [
       "'A coral reef is an underwater ecosystem characterized by reef-building corals. Reefs are formed of colonies of coral polyps held together by calcium carbonate.\\nA trench is a type of excavation or depression in the ground that is generally deeper than it is wide, and narrow compared with its length. In geology, trenches result from erosion by rivers or by geological movement of tectonic plates.'"
      ]
     },
     "execution_count": 19,
     "metadata": {},
     "output_type": "execute_result"
    }
   ],
   "source": [
    "f.read()"
   ]
  },
  {
   "cell_type": "markdown",
   "id": "c2e2029d-ebbb-4422-ac2c-31af3aa15942",
   "metadata": {},
   "source": [
    "[Here, \"\\n\" is treated as a special character.]"
   ]
  },
  {
   "cell_type": "markdown",
   "id": "f6cfcae1-424a-4f3c-96df-1531438631e6",
   "metadata": {},
   "source": [
    "* readline() - Reads a line of the file and returns in form of a string.For specified n, reads at most n bytes. However, does not reads more than one line, even if n exceeds the length of the line."
   ]
  },
  {
   "cell_type": "code",
   "execution_count": 20,
   "id": "65793dee-8a5a-4f3e-aa51-ce3f2618f8f9",
   "metadata": {},
   "outputs": [
    {
     "data": {
      "text/plain": [
       "0"
      ]
     },
     "execution_count": 20,
     "metadata": {},
     "output_type": "execute_result"
    }
   ],
   "source": [
    "f.seek(0)"
   ]
  },
  {
   "cell_type": "code",
   "execution_count": 21,
   "id": "1999801d-e058-41dd-a7de-2164970ddbb6",
   "metadata": {},
   "outputs": [
    {
     "data": {
      "text/plain": [
       "'A coral reef is an underwater ecosystem characterized by reef-building corals. Reefs are formed of colonies of coral polyps held together by calcium carbonate.\\n'"
      ]
     },
     "execution_count": 21,
     "metadata": {},
     "output_type": "execute_result"
    }
   ],
   "source": [
    "f.readline()"
   ]
  },
  {
   "cell_type": "code",
   "execution_count": 22,
   "id": "340f3129-a4a7-4ec7-beaf-a1c124a82b80",
   "metadata": {},
   "outputs": [
    {
     "data": {
      "text/plain": [
       "'A trench is a type of excavation or depression in the ground that is generally deeper than it is wide, and narrow compared with its length. In geology, trenches result from erosion by rivers or by geological movement of tectonic plates.'"
      ]
     },
     "execution_count": 22,
     "metadata": {},
     "output_type": "execute_result"
    }
   ],
   "source": [
    "f.readline()"
   ]
  },
  {
   "cell_type": "markdown",
   "id": "10fce16f-5a93-40b3-8723-946e69457d29",
   "metadata": {},
   "source": [
    "* readlines() - Reads all the lines and return them as each line a string element in a list."
   ]
  },
  {
   "cell_type": "code",
   "execution_count": 23,
   "id": "1c143b25-730a-4fdf-9422-b2eeb58487da",
   "metadata": {},
   "outputs": [
    {
     "data": {
      "text/plain": [
       "0"
      ]
     },
     "execution_count": 23,
     "metadata": {},
     "output_type": "execute_result"
    }
   ],
   "source": [
    "f.seek(0)"
   ]
  },
  {
   "cell_type": "code",
   "execution_count": 24,
   "id": "3e62bd49-d4b6-49db-8918-f45559640ac3",
   "metadata": {},
   "outputs": [
    {
     "data": {
      "text/plain": [
       "['A coral reef is an underwater ecosystem characterized by reef-building corals. Reefs are formed of colonies of coral polyps held together by calcium carbonate.\\n',\n",
       " 'A trench is a type of excavation or depression in the ground that is generally deeper than it is wide, and narrow compared with its length. In geology, trenches result from erosion by rivers or by geological movement of tectonic plates.']"
      ]
     },
     "execution_count": 24,
     "metadata": {},
     "output_type": "execute_result"
    }
   ],
   "source": [
    "f.readlines()"
   ]
  },
  {
   "cell_type": "markdown",
   "id": "5c4614d6-f013-4d04-9a53-81597d9d6d14",
   "metadata": {},
   "source": [
    "### ANSWER 5"
   ]
  },
  {
   "cell_type": "markdown",
   "id": "f84d0028-8265-4204-b09e-69abd5dd7652",
   "metadata": {},
   "source": [
    "\"with\" statement is used with \"open()\" to open files in Python. "
   ]
  },
  {
   "cell_type": "markdown",
   "id": "42cc49c1-9820-4e80-bc3c-2fe56366cee2",
   "metadata": {},
   "source": [
    "The advantages of using with statement and open() together are - \n",
    "* The with statement automatically takes of closing the file when it is no longer needed, even if an exception is raised. So there is no need of explicitly closing the opened file.\n",
    "* It reduces the number of lines of code \n",
    "* It reduces the chances of bugs\n",
    "* The code becomes more tidy as we can easily separate between code block by difference in indents"
   ]
  },
  {
   "cell_type": "markdown",
   "id": "a4767fd5-ba6e-427d-919b-293b633eea70",
   "metadata": {},
   "source": [
    "### ANSWER 6"
   ]
  },
  {
   "cell_type": "markdown",
   "id": "6bb4505a-fcb5-46ee-a74b-8aa647451fb3",
   "metadata": {},
   "source": [
    "* write() - It is used to write content in the file without adding any extra characters."
   ]
  },
  {
   "cell_type": "code",
   "execution_count": 26,
   "id": "57e592f5-e48c-4ba1-9ecd-339ed253dec8",
   "metadata": {},
   "outputs": [],
   "source": [
    "f = open(\"test3.txt\",\"w\")"
   ]
  },
  {
   "cell_type": "code",
   "execution_count": 27,
   "id": "b0234f3d-666c-4bfb-a253-e8a568e28edd",
   "metadata": {},
   "outputs": [
    {
     "name": "stdin",
     "output_type": "stream",
     "text": [
      "Enter name :  Aman\n",
      "Enter name :  Abhijeet\n",
      "Enter name :  Abhishek\n"
     ]
    }
   ],
   "source": [
    "for i in range(3):\n",
    "    name = input(\"Enter name : \")\n",
    "    f.write(name + \"\\n\")\n",
    "    \n",
    "f.close()"
   ]
  },
  {
   "cell_type": "code",
   "execution_count": 28,
   "id": "83d070b7-bd09-4aa7-912d-f24b92725fff",
   "metadata": {},
   "outputs": [],
   "source": [
    "f = open(\"test3.txt\",\"r\")"
   ]
  },
  {
   "cell_type": "code",
   "execution_count": 29,
   "id": "0b940ddd-94da-47b0-b2bb-8bd56cb5db79",
   "metadata": {},
   "outputs": [
    {
     "data": {
      "text/plain": [
       "'Aman\\nAbhijeet\\nAbhishek\\n'"
      ]
     },
     "execution_count": 29,
     "metadata": {},
     "output_type": "execute_result"
    }
   ],
   "source": [
    "f.read()"
   ]
  },
  {
   "cell_type": "code",
   "execution_count": 30,
   "id": "305c4895-b4c9-47f3-ae32-f0bea363da52",
   "metadata": {},
   "outputs": [],
   "source": [
    "f.close()"
   ]
  },
  {
   "cell_type": "markdown",
   "id": "8c26b660-07ae-4a68-97d1-f885f1b2ef1f",
   "metadata": {},
   "source": [
    "* writelines() - This function is used write a list of lines to stream. It writes the content of a list to the file."
   ]
  },
  {
   "cell_type": "code",
   "execution_count": 31,
   "id": "25fe70ed-fc98-4714-b442-3dce0e0f8502",
   "metadata": {},
   "outputs": [],
   "source": [
    "f = open(\"test4.txt\",\"w\")"
   ]
  },
  {
   "cell_type": "code",
   "execution_count": 32,
   "id": "5f8348e3-f294-4377-895b-e3ef66831257",
   "metadata": {},
   "outputs": [],
   "source": [
    "lst = []"
   ]
  },
  {
   "cell_type": "code",
   "execution_count": 33,
   "id": "05de2b78-27ce-43b6-adf7-c2b57dabc04a",
   "metadata": {},
   "outputs": [
    {
     "name": "stdin",
     "output_type": "stream",
     "text": [
      "Enter name :  Aman\n",
      "Enter name :  Abhijeet\n",
      "Enter name :  Abhishek\n"
     ]
    }
   ],
   "source": [
    "for i in range(3):\n",
    "    name = input(\"Enter name : \")\n",
    "    lst.append(name + \"\\n\")\n",
    "    \n",
    "f.writelines(lst)\n",
    "f.close()"
   ]
  },
  {
   "cell_type": "code",
   "execution_count": 34,
   "id": "2ce2b206-9d2c-4629-b7c2-a295fc8babf2",
   "metadata": {},
   "outputs": [],
   "source": [
    "f = open(\"test4.txt\",\"r\")"
   ]
  },
  {
   "cell_type": "code",
   "execution_count": 35,
   "id": "04084fa8-6630-4b5e-8a20-32d434ed8bd9",
   "metadata": {},
   "outputs": [
    {
     "data": {
      "text/plain": [
       "'Aman\\nAbhijeet\\nAbhishek\\n'"
      ]
     },
     "execution_count": 35,
     "metadata": {},
     "output_type": "execute_result"
    }
   ],
   "source": [
    "f.read()"
   ]
  },
  {
   "cell_type": "code",
   "execution_count": 36,
   "id": "cc3549ba-5c3b-4411-b3ee-b5426ab41e57",
   "metadata": {},
   "outputs": [],
   "source": [
    "f.close()"
   ]
  },
  {
   "cell_type": "markdown",
   "id": "c5a37912-5f36-4a63-abf1-2d1a4a53ed1e",
   "metadata": {},
   "source": [
    "write() is used to write a string to an opened file whereas writelines() is used to write a list of strings in a opened file."
   ]
  },
  {
   "cell_type": "code",
   "execution_count": null,
   "id": "5f28f8b3-309f-4459-9df3-3afc64003306",
   "metadata": {},
   "outputs": [],
   "source": []
  }
 ],
 "metadata": {
  "kernelspec": {
   "display_name": "Python 3 (ipykernel)",
   "language": "python",
   "name": "python3"
  },
  "language_info": {
   "codemirror_mode": {
    "name": "ipython",
    "version": 3
   },
   "file_extension": ".py",
   "mimetype": "text/x-python",
   "name": "python",
   "nbconvert_exporter": "python",
   "pygments_lexer": "ipython3",
   "version": "3.10.8"
  }
 },
 "nbformat": 4,
 "nbformat_minor": 5
}
