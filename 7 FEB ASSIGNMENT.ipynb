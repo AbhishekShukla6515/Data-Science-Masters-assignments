{
 "cells": [
  {
   "cell_type": "markdown",
   "id": "faf1b2e0-f199-42a0-be79-ccdb2be942f5",
   "metadata": {},
   "source": [
    "# 7 FEB ASSIGNMENT (Task - 2)"
   ]
  },
  {
   "cell_type": "markdown",
   "id": "d8b0c701-b628-4925-aabc-45eecdc97e3f",
   "metadata": {},
   "source": [
    "### ANSWER 1"
   ]
  },
  {
   "cell_type": "code",
   "execution_count": 6,
   "id": "07bd56fb-5ea6-4341-9f35-e8808f32f23c",
   "metadata": {},
   "outputs": [],
   "source": [
    "def valid_pass(s):\n",
    "    upper_count = lower_count = number_count = special_count = 0\n",
    "    \n",
    "    for i in s:\n",
    "        if i.isupper():\n",
    "            upper_count+=1\n",
    "        elif i.islower():\n",
    "            lower_count+=1\n",
    "        elif i.isdigit():\n",
    "            number_count+=1\n",
    "        elif not(i.isalpha() or i.isdigit() or i==\" \"):\n",
    "            special_count+=1\n",
    "            \n",
    "    \n",
    "    if len(s)!=10:\n",
    "        return \"Invalid Password\"\n",
    "    elif upper_count<2:\n",
    "        return \"Invalid Password\"\n",
    "    elif lower_count<2:\n",
    "        return \"Invalid Password\"\n",
    "    elif number_count==0:\n",
    "        return \"Invalid Password\"\n",
    "    elif special_count!=3:\n",
    "        return \"Invalid Password\"\n",
    "    else:\n",
    "        return \"Valid Password\""
   ]
  },
  {
   "cell_type": "code",
   "execution_count": 8,
   "id": "f240fdad-4f64-4d6d-a4aa-bdce19cbcbad",
   "metadata": {},
   "outputs": [
    {
     "data": {
      "text/plain": [
       "'Invalid Password'"
      ]
     },
     "execution_count": 8,
     "metadata": {},
     "output_type": "execute_result"
    }
   ],
   "source": [
    "p = \"abc@123\"\n",
    "\n",
    "valid_pass(p)"
   ]
  },
  {
   "cell_type": "code",
   "execution_count": 11,
   "id": "39cbab6a-b837-4b9d-bc41-11f5ab9d373c",
   "metadata": {},
   "outputs": [
    {
     "data": {
      "text/plain": [
       "'Valid Password'"
      ]
     },
     "execution_count": 11,
     "metadata": {},
     "output_type": "execute_result"
    }
   ],
   "source": [
    "c = \"Abh#@Sh29.\"\n",
    "\n",
    "valid_pass(c)"
   ]
  },
  {
   "cell_type": "markdown",
   "id": "2a0ec6f1-020d-451a-87b6-3adbcbeb5a87",
   "metadata": {},
   "source": [
    "### ANSWER 2"
   ]
  },
  {
   "cell_type": "markdown",
   "id": "77baeacd-91ba-4ea9-bfce-d5085a4862b2",
   "metadata": {},
   "source": [
    "##### check if the string starts with a particular letter"
   ]
  },
  {
   "cell_type": "code",
   "execution_count": 18,
   "id": "68cb1494-423e-41da-92c3-c89bd3472af9",
   "metadata": {},
   "outputs": [],
   "source": [
    "## taking \"a\" (or \"A\") as the letter\n",
    "\n",
    "part_letter = lambda x : True if x[0].lower()==\"a\" else False"
   ]
  },
  {
   "cell_type": "code",
   "execution_count": 19,
   "id": "5c7c3949-d188-4b1f-a692-1dfcd87720b8",
   "metadata": {},
   "outputs": [],
   "source": [
    "string = \"Abhishek\""
   ]
  },
  {
   "cell_type": "code",
   "execution_count": 20,
   "id": "a00ce566-f817-4043-a2c5-150c714e872a",
   "metadata": {},
   "outputs": [
    {
     "data": {
      "text/plain": [
       "True"
      ]
     },
     "execution_count": 20,
     "metadata": {},
     "output_type": "execute_result"
    }
   ],
   "source": [
    "part_letter(string)"
   ]
  },
  {
   "cell_type": "markdown",
   "id": "a477b466-7740-4566-a1a8-405ecf1acf46",
   "metadata": {},
   "source": [
    "##### check if the string is numeric"
   ]
  },
  {
   "cell_type": "code",
   "execution_count": 21,
   "id": "4a33ba0e-4fc3-47d2-9018-55e28d40a2c2",
   "metadata": {},
   "outputs": [],
   "source": [
    "num = lambda x : x.isdigit()"
   ]
  },
  {
   "cell_type": "code",
   "execution_count": 22,
   "id": "8e060bed-bbf0-4cfe-afb4-6c38cc97b78f",
   "metadata": {},
   "outputs": [],
   "source": [
    "str1 = \"1234\""
   ]
  },
  {
   "cell_type": "code",
   "execution_count": 23,
   "id": "dcf98cff-7826-4ba7-a072-5976d7dc0347",
   "metadata": {},
   "outputs": [
    {
     "data": {
      "text/plain": [
       "True"
      ]
     },
     "execution_count": 23,
     "metadata": {},
     "output_type": "execute_result"
    }
   ],
   "source": [
    "num(str1)"
   ]
  },
  {
   "cell_type": "markdown",
   "id": "9d7106ad-e37e-4984-8a49-90da2d95512d",
   "metadata": {},
   "source": [
    "##### sort a list of tuples having fruit names and their quantity."
   ]
  },
  {
   "cell_type": "code",
   "execution_count": 25,
   "id": "e09689a2-ae7c-4373-8417-7cb623a08995",
   "metadata": {},
   "outputs": [],
   "source": [
    "lst = [(\"mango\",99),(\"orange\",80), (\"grapes\", 1000)]"
   ]
  },
  {
   "cell_type": "code",
   "execution_count": 30,
   "id": "7d59501a-0c93-47ef-84d9-8bde42b0edf8",
   "metadata": {},
   "outputs": [],
   "source": [
    "## sorting on the basis of fruit name\n",
    "\n",
    "sort1 = lambda l : sorted(l, key = lambda x : x[0])"
   ]
  },
  {
   "cell_type": "code",
   "execution_count": 31,
   "id": "eddc2141-caf3-42d0-90c4-2d33e85e1c2d",
   "metadata": {},
   "outputs": [],
   "source": [
    "## sorting on the basis of quantity\n",
    "\n",
    "sort2 = lambda l : sorted(l, key = lambda x : x[1])"
   ]
  },
  {
   "cell_type": "code",
   "execution_count": 32,
   "id": "89aa7e82-78df-4ece-a8f4-fa8a11faf89a",
   "metadata": {},
   "outputs": [
    {
     "data": {
      "text/plain": [
       "[('grapes', 1000), ('mango', 99), ('orange', 80)]"
      ]
     },
     "execution_count": 32,
     "metadata": {},
     "output_type": "execute_result"
    }
   ],
   "source": [
    "sort1(lst)"
   ]
  },
  {
   "cell_type": "code",
   "execution_count": 33,
   "id": "23936b76-6d26-4cc8-a3dd-8d1205c47af4",
   "metadata": {},
   "outputs": [
    {
     "data": {
      "text/plain": [
       "[('orange', 80), ('mango', 99), ('grapes', 1000)]"
      ]
     },
     "execution_count": 33,
     "metadata": {},
     "output_type": "execute_result"
    }
   ],
   "source": [
    "sort2(lst)"
   ]
  },
  {
   "cell_type": "markdown",
   "id": "81dede6f-fcbc-4c58-96da-04ab71de6aaf",
   "metadata": {},
   "source": [
    "##### Find the squares of numbers from 1 to 10"
   ]
  },
  {
   "cell_type": "code",
   "execution_count": 34,
   "id": "56a6a3ea-c27c-4cec-bdde-12568f34d8dc",
   "metadata": {},
   "outputs": [],
   "source": [
    "## using list comprehension\n",
    "\n",
    "lst2 = [i**2 for i in range(1,11)]"
   ]
  },
  {
   "cell_type": "code",
   "execution_count": 35,
   "id": "98e140f7-ba32-49f2-a1b5-5ef5a126db99",
   "metadata": {},
   "outputs": [
    {
     "data": {
      "text/plain": [
       "[1, 4, 9, 16, 25, 36, 49, 64, 81, 100]"
      ]
     },
     "execution_count": 35,
     "metadata": {},
     "output_type": "execute_result"
    }
   ],
   "source": [
    "lst2"
   ]
  },
  {
   "cell_type": "markdown",
   "id": "bcac7a62-918a-48bf-8ce6-b9a5733433af",
   "metadata": {},
   "source": [
    "##### Find the cube root of numbers from 1 to 10"
   ]
  },
  {
   "cell_type": "code",
   "execution_count": 39,
   "id": "2a1cd7a9-df71-4b54-ac18-fd16975f048b",
   "metadata": {},
   "outputs": [],
   "source": [
    "## using list comprehension and map function\n",
    "\n",
    "lst3 = [i for i in range(1,11)]"
   ]
  },
  {
   "cell_type": "code",
   "execution_count": 42,
   "id": "c908a4cf-b0ed-4454-8576-00d09fd0249f",
   "metadata": {},
   "outputs": [
    {
     "data": {
      "text/plain": [
       "[1.0,\n",
       " 1.2599210498948732,\n",
       " 1.4422495703074083,\n",
       " 1.5874010519681994,\n",
       " 1.7099759466766968,\n",
       " 1.8171205928321397,\n",
       " 1.912931182772389,\n",
       " 2.0,\n",
       " 2.080083823051904,\n",
       " 2.154434690031884]"
      ]
     },
     "execution_count": 42,
     "metadata": {},
     "output_type": "execute_result"
    }
   ],
   "source": [
    "list(map(lambda x : x**(1/3),lst3))"
   ]
  },
  {
   "cell_type": "markdown",
   "id": "e2ef4917-078f-47ab-a1a3-bb172a2544fb",
   "metadata": {},
   "source": [
    "##### Filter odd numbers from the given list."
   ]
  },
  {
   "cell_type": "code",
   "execution_count": 43,
   "id": "39b334dd-8c00-4250-b560-ff6e2211d145",
   "metadata": {},
   "outputs": [],
   "source": [
    "list1 = [1,2,3,4,5,6,7,8,9,10]"
   ]
  },
  {
   "cell_type": "code",
   "execution_count": 44,
   "id": "c5e1f071-4f66-428f-a461-aac655b8a124",
   "metadata": {},
   "outputs": [
    {
     "data": {
      "text/plain": [
       "[1, 3, 5, 7, 9]"
      ]
     },
     "execution_count": 44,
     "metadata": {},
     "output_type": "execute_result"
    }
   ],
   "source": [
    "list(filter(lambda x : x%2!=0,list1))"
   ]
  },
  {
   "cell_type": "markdown",
   "id": "37b2380c-e8b5-417f-bb81-f43da0f52980",
   "metadata": {},
   "source": [
    "##### Sort a list of integers into positive and negative integers lists."
   ]
  },
  {
   "cell_type": "code",
   "execution_count": 45,
   "id": "5f0c5c2b-c09e-4107-84d8-0cb3655b4212",
   "metadata": {},
   "outputs": [],
   "source": [
    "list2 = [1,2,3,4,5,6,-1,-2,-3,-4,-5,0]"
   ]
  },
  {
   "cell_type": "code",
   "execution_count": 47,
   "id": "d18aec38-0b8e-4e2d-861c-2a99a0613e71",
   "metadata": {},
   "outputs": [],
   "source": [
    "pos_list = list(filter(lambda x : x>=0,list2))"
   ]
  },
  {
   "cell_type": "code",
   "execution_count": 48,
   "id": "4a41f14e-2cf5-4f3f-84d6-eb47e4cd051e",
   "metadata": {},
   "outputs": [],
   "source": [
    "neg_list = list(filter(lambda x : x<0,list2))"
   ]
  },
  {
   "cell_type": "code",
   "execution_count": 49,
   "id": "7b9e7fdd-7cdf-4963-a073-6eb80175e128",
   "metadata": {},
   "outputs": [
    {
     "data": {
      "text/plain": [
       "[1, 2, 3, 4, 5, 6, 0]"
      ]
     },
     "execution_count": 49,
     "metadata": {},
     "output_type": "execute_result"
    }
   ],
   "source": [
    "pos_list"
   ]
  },
  {
   "cell_type": "code",
   "execution_count": 50,
   "id": "1592392f-7d9e-430b-a6e5-ae5dcd389d7a",
   "metadata": {},
   "outputs": [
    {
     "data": {
      "text/plain": [
       "[-1, -2, -3, -4, -5]"
      ]
     },
     "execution_count": 50,
     "metadata": {},
     "output_type": "execute_result"
    }
   ],
   "source": [
    "neg_list"
   ]
  },
  {
   "cell_type": "code",
   "execution_count": null,
   "id": "6dddc393-24cb-4880-8253-47660493d085",
   "metadata": {},
   "outputs": [],
   "source": []
  }
 ],
 "metadata": {
  "kernelspec": {
   "display_name": "Python 3 (ipykernel)",
   "language": "python",
   "name": "python3"
  },
  "language_info": {
   "codemirror_mode": {
    "name": "ipython",
    "version": 3
   },
   "file_extension": ".py",
   "mimetype": "text/x-python",
   "name": "python",
   "nbconvert_exporter": "python",
   "pygments_lexer": "ipython3",
   "version": "3.10.8"
  }
 },
 "nbformat": 4,
 "nbformat_minor": 5
}
